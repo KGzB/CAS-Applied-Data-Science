{
  "nbformat": 4,
  "nbformat_minor": 0,
  "metadata": {
    "kernelspec": {
      "display_name": "Python 3",
      "language": "python",
      "name": "python3"
    },
    "language_info": {
      "codemirror_mode": {
        "name": "ipython",
        "version": 3
      },
      "file_extension": ".py",
      "mimetype": "text/x-python",
      "name": "python",
      "nbconvert_exporter": "python",
      "pygments_lexer": "ipython3",
      "version": "3.7.8"
    },
    "colab": {
      "name": "M1-D1-DM.ipynb",
      "provenance": []
    }
  },
  "cells": [
    {
      "cell_type": "markdown",
      "metadata": {
        "id": "dOSMpeOK06p8"
      },
      "source": [
        "Notebook 1, Module 1, Data and Data Management, CAS Applied Data Science, 2021-08-23, S. Haug, University of Bern.\n"
      ]
    },
    {
      "cell_type": "markdown",
      "metadata": {
        "id": "ljJDZt-n6zPw"
      },
      "source": [
        "Prerequisite for this notebook is some basic Python experience. \n",
        "\n",
        "Please also look at the first batch of [these slides](https://docs.google.com/presentation/d/1BrlQQGDnEpr8lBiEd9uO-Kw2-WOInAEP-cv-xdUwB4Y/edit?usp=sharing) before doing this notebook. They offer an introduction to data. "
      ]
    },
    {
      "cell_type": "markdown",
      "metadata": {
        "id": "OAVKazfU06p-"
      },
      "source": [
        "# 1. Data Management\n",
        "\n",
        "Estimated study time is up to 2 hours. According to your background and how much you want to learn, you may need more or less. You are supposed to google, read manuals and chat with others during working through this notebook in order to benefit fully.\n",
        "\n",
        "**Learning outcomes - after completion you**\n",
        "- Know about data sources, types and formats (see lecture slides via link above)\n",
        "- Able to import and export data in Python\n",
        "- Able to do simple things with dataframes in Python\n",
        "- Know about data volumes, metadata and quality\n",
        "- Able to plot histograms and scatter plots in Python (tomorrow)\n",
        "\n",
        "**Documentation on Pandas DataFrame**\n",
        "- Python: https://pandas.pydata.org/pandas-docs/stable/generated/pandas.DataFrame.html\n",
        "\n",
        "## Outline\n",
        "\n",
        "     0. About data management\n",
        "     1. Getting used to Jupyter lab\n",
        "     2. Import datasets into a Python dataframe\n",
        "     3. Indexing on a dataframe\n",
        "     4. Sorting \n",
        "     5. Filtering\n",
        "     6. Exporting\n",
        "     7. Missing and bad data\n",
        "     8. Metadata\n",
        "     9. Working on the filesystem\n"
      ]
    },
    {
      "cell_type": "code",
      "metadata": {
        "id": "P0o4Jxdy06qA"
      },
      "source": [
        ""
      ],
      "execution_count": null,
      "outputs": []
    },
    {
      "cell_type": "markdown",
      "metadata": {
        "id": "0xY2gyiE06qA"
      },
      "source": [
        "### 0. About data management"
      ]
    },
    {
      "cell_type": "markdown",
      "metadata": {
        "id": "nFyhF-jp06qB"
      },
      "source": [
        "Handling or managing data involves many steps and technologies at many levels. Data my be colleccted by sensors. It can be a camera, a temperature sensor, a telescope, a microscope (with a camera), a microphone, a particle detector etc. Normally the data is then digitised, maybe preprocessed and written to some media in a certain format, e.g. hard disk. This part of the data management is normally taken care of by engineers. \n",
        "\n",
        "Data may also be collected from all sorts of databases, so data already collected somehow. Time series of financial data, customers, passengers, facebook likes, twitter tweets etc. This is data which is normally already on a media with some interface for access, e.g. paper to be read by a camera, a file on youtube, a table on wikipedia etc. We will look at some ways to collect such data. Some programming and computer skills are needed to do so. It may be that this part of the data management is taken care of by specialised computer scientists, but it may also be expected from a data scientist to have these skills. \n",
        "\n",
        "Analysing data with statisitical and machine learning tools, requires that the data is colleceted, cleaned, prepared for the tools. This is very often a very large part of a data analytics project and a prerequisite. It may involve removing bad data, filter out redundant and noisy data, unify the formats and types, transform the data etc. \n",
        "Thus, a data scientist must be able to perform this part of the data management. This notebook shows the basic operations with Python pandas. With other tools the concepts and operations are very similar.\n",
        "\n",
        "After the data analysis, after the extraction of information and the creation of knowledge, the data is often stored or archived for the future (if this seems cheaper than regenerating the data at a later point). In larger institutions this part of the data management may include educated librarians and others, not necessarily the data scientist.  \n",
        "\n",
        "Any questions?\n"
      ]
    },
    {
      "cell_type": "markdown",
      "metadata": {
        "id": "z4HJ8cnp06qC"
      },
      "source": [
        "### 1. Getting used to Jupyter computational notebooks and Colab\n",
        "\n",
        "With Jupyter you can write rich text notebooks with executable code via your browser. There are several so-called kernels or computational back ends, i.e Python, R, Julia, bash etc can be supported. The text is written as Markdown. Latex is also supported (good for math). You can export the notebook in various formats, e.g. html. Everything can be done via the various tabs, however, the key shortcuts make you faster. \n",
        "\n",
        "*Useful key combinations*\n",
        "\n",
        "- Shift Enter or Control Enter = Run cell\n",
        "- Option Enter = Run cell and Insert new cell below\n",
        "\n",
        "*Exercises (10 min)*\n",
        "- Change and run this cell\n",
        "- Add a new cell and execute some python statement in it\n",
        "- Study the tabs in the menu of your jupyter (lab) notebook"
      ]
    },
    {
      "cell_type": "code",
      "metadata": {
        "id": "3tn_Bnh606qC",
        "outputId": "54e64fe4-3557-4177-e05a-bec950c03d08",
        "colab": {
          "base_uri": "https://localhost:8080/"
        }
      },
      "source": [
        "# Write some more Python code here\n",
        "\n",
        "print('Hallo CAS')"
      ],
      "execution_count": 1,
      "outputs": [
        {
          "output_type": "stream",
          "text": [
            "Hallo CAS\n"
          ],
          "name": "stdout"
        }
      ]
    },
    {
      "cell_type": "markdown",
      "metadata": {
        "id": "9Yy0P4Q006qD"
      },
      "source": [
        "### 2. Import a dataset into a Python DataFrame\n",
        "\n",
        "Pandas is a Python Module/Library for data analysis and manipulation. It has the data structure DataFrame which is quite powerful. Features\n",
        "\n",
        "- DataFrame object for data manipulation with integrated indexing.\n",
        "- Tools for reading and writing data between in-memory data structures and different file formats.\n",
        "- Data alignment and integrated handling of missing data.\n",
        "- Reshaping and pivoting of data sets.\n",
        "- Label-based slicing, fancy indexing, and subsetting of large data sets.\n",
        "- Data structure column insertion and deletion.\n",
        "- Group by engine allowing split-apply-combine operations on data sets.\n",
        "- Data set merging and joining.\n",
        "- Hierarchical axis indexing to work with high-dimensional data in a lower-dimensional data structure.\n",
        "- Time series-functionality: Date range generation and frequency conversion, moving window statistics, moving window linear regressions, date shifting and lagging.\n",
        "\n",
        "The module is highly optimized for performance, with critical code paths written in Cython or C. Documentation here: https://pandas.pydata.org/pandas-docs/stable/api.html\n",
        "\n",
        "For input/output (I/O) there are methods for reading EXCEL, SQL databases, HTML tables, clipboard, SAS, STATA etc."
      ]
    },
    {
      "cell_type": "code",
      "metadata": {
        "id": "2va7jftt06qF"
      },
      "source": [
        "import pandas"
      ],
      "execution_count": null,
      "outputs": []
    },
    {
      "cell_type": "code",
      "metadata": {
        "id": "Fcu5tlR106qG",
        "outputId": "9196ef1d-20cb-435a-8072-575b2fcbe49c"
      },
      "source": [
        "# import the python module pandas with the abbreviation pd\n",
        "import pandas as pd\n",
        "# Read the data in the iris.csv file into a dataframe\n",
        "dataframe = pd.read_csv('iris.csv',dtype='str',names=['slength','swidth','plength','pwidth','species']) # data type is a string (str), i.e. not converted into numbers\n",
        "dataframe # print data"
      ],
      "execution_count": null,
      "outputs": [
        {
          "data": {
            "text/html": [
              "<div>\n",
              "<style scoped>\n",
              "    .dataframe tbody tr th:only-of-type {\n",
              "        vertical-align: middle;\n",
              "    }\n",
              "\n",
              "    .dataframe tbody tr th {\n",
              "        vertical-align: top;\n",
              "    }\n",
              "\n",
              "    .dataframe thead th {\n",
              "        text-align: right;\n",
              "    }\n",
              "</style>\n",
              "<table border=\"1\" class=\"dataframe\">\n",
              "  <thead>\n",
              "    <tr style=\"text-align: right;\">\n",
              "      <th></th>\n",
              "      <th>slength</th>\n",
              "      <th>swidth</th>\n",
              "      <th>plength</th>\n",
              "      <th>pwidth</th>\n",
              "      <th>species</th>\n",
              "    </tr>\n",
              "  </thead>\n",
              "  <tbody>\n",
              "    <tr>\n",
              "      <th>0</th>\n",
              "      <td>5.1</td>\n",
              "      <td>3.5</td>\n",
              "      <td>1.4</td>\n",
              "      <td>0.2</td>\n",
              "      <td>Iris-setosa</td>\n",
              "    </tr>\n",
              "    <tr>\n",
              "      <th>1</th>\n",
              "      <td>4.9</td>\n",
              "      <td>3.0</td>\n",
              "      <td>1.4</td>\n",
              "      <td>0.2</td>\n",
              "      <td>Iris-setosa</td>\n",
              "    </tr>\n",
              "    <tr>\n",
              "      <th>2</th>\n",
              "      <td>4.7</td>\n",
              "      <td>3.2</td>\n",
              "      <td>1.3</td>\n",
              "      <td>0.2</td>\n",
              "      <td>Iris-setosa</td>\n",
              "    </tr>\n",
              "    <tr>\n",
              "      <th>3</th>\n",
              "      <td>4.6</td>\n",
              "      <td>3.1</td>\n",
              "      <td>1.5</td>\n",
              "      <td>0.2</td>\n",
              "      <td>Iris-setosa</td>\n",
              "    </tr>\n",
              "    <tr>\n",
              "      <th>4</th>\n",
              "      <td>5.0</td>\n",
              "      <td>3.6</td>\n",
              "      <td>1.4</td>\n",
              "      <td>0.2</td>\n",
              "      <td>Iris-setosa</td>\n",
              "    </tr>\n",
              "    <tr>\n",
              "      <th>...</th>\n",
              "      <td>...</td>\n",
              "      <td>...</td>\n",
              "      <td>...</td>\n",
              "      <td>...</td>\n",
              "      <td>...</td>\n",
              "    </tr>\n",
              "    <tr>\n",
              "      <th>145</th>\n",
              "      <td>6.7</td>\n",
              "      <td>3.0</td>\n",
              "      <td>5.2</td>\n",
              "      <td>2.3</td>\n",
              "      <td>Iris-virginica</td>\n",
              "    </tr>\n",
              "    <tr>\n",
              "      <th>146</th>\n",
              "      <td>6.3</td>\n",
              "      <td>2.5</td>\n",
              "      <td>5.0</td>\n",
              "      <td>1.9</td>\n",
              "      <td>Iris-virginica</td>\n",
              "    </tr>\n",
              "    <tr>\n",
              "      <th>147</th>\n",
              "      <td>6.5</td>\n",
              "      <td>3.0</td>\n",
              "      <td>5.2</td>\n",
              "      <td>2.0</td>\n",
              "      <td>Iris-virginica</td>\n",
              "    </tr>\n",
              "    <tr>\n",
              "      <th>148</th>\n",
              "      <td>6.2</td>\n",
              "      <td>3.4</td>\n",
              "      <td>5.4</td>\n",
              "      <td>2.3</td>\n",
              "      <td>Iris-virginica</td>\n",
              "    </tr>\n",
              "    <tr>\n",
              "      <th>149</th>\n",
              "      <td>5.9</td>\n",
              "      <td>3.0</td>\n",
              "      <td>5.1</td>\n",
              "      <td>1.8</td>\n",
              "      <td>Iris-virginica</td>\n",
              "    </tr>\n",
              "  </tbody>\n",
              "</table>\n",
              "<p>150 rows × 5 columns</p>\n",
              "</div>"
            ],
            "text/plain": [
              "    slength swidth plength pwidth         species\n",
              "0       5.1    3.5     1.4    0.2     Iris-setosa\n",
              "1       4.9    3.0     1.4    0.2     Iris-setosa\n",
              "2       4.7    3.2     1.3    0.2     Iris-setosa\n",
              "3       4.6    3.1     1.5    0.2     Iris-setosa\n",
              "4       5.0    3.6     1.4    0.2     Iris-setosa\n",
              "..      ...    ...     ...    ...             ...\n",
              "145     6.7    3.0     5.2    2.3  Iris-virginica\n",
              "146     6.3    2.5     5.0    1.9  Iris-virginica\n",
              "147     6.5    3.0     5.2    2.0  Iris-virginica\n",
              "148     6.2    3.4     5.4    2.3  Iris-virginica\n",
              "149     5.9    3.0     5.1    1.8  Iris-virginica\n",
              "\n",
              "[150 rows x 5 columns]"
            ]
          },
          "execution_count": 2,
          "metadata": {},
          "output_type": "execute_result"
        }
      ]
    },
    {
      "cell_type": "markdown",
      "metadata": {
        "id": "OKvS45Aq06qH"
      },
      "source": [
        "The notebook shows 50 rows per default. We can change this as we like:\n"
      ]
    },
    {
      "cell_type": "code",
      "metadata": {
        "id": "odf02zpP06qI"
      },
      "source": [
        "pd.set_option('display.max_rows', 100) # or whatever number you like or None  "
      ],
      "execution_count": null,
      "outputs": []
    },
    {
      "cell_type": "code",
      "metadata": {
        "id": "sfWe0grO06qJ",
        "outputId": "5939da1d-6336-4cc5-9361-5df0d8af9677"
      },
      "source": [
        "dataframe[148:151]"
      ],
      "execution_count": null,
      "outputs": [
        {
          "data": {
            "text/html": [
              "<div>\n",
              "<style scoped>\n",
              "    .dataframe tbody tr th:only-of-type {\n",
              "        vertical-align: middle;\n",
              "    }\n",
              "\n",
              "    .dataframe tbody tr th {\n",
              "        vertical-align: top;\n",
              "    }\n",
              "\n",
              "    .dataframe thead th {\n",
              "        text-align: right;\n",
              "    }\n",
              "</style>\n",
              "<table border=\"1\" class=\"dataframe\">\n",
              "  <thead>\n",
              "    <tr style=\"text-align: right;\">\n",
              "      <th></th>\n",
              "      <th>slength</th>\n",
              "      <th>swidth</th>\n",
              "      <th>plength</th>\n",
              "      <th>pwidth</th>\n",
              "      <th>species</th>\n",
              "    </tr>\n",
              "  </thead>\n",
              "  <tbody>\n",
              "    <tr>\n",
              "      <th>148</th>\n",
              "      <td>6.2</td>\n",
              "      <td>3.4</td>\n",
              "      <td>5.4</td>\n",
              "      <td>2.3</td>\n",
              "      <td>Iris-virginica</td>\n",
              "    </tr>\n",
              "    <tr>\n",
              "      <th>149</th>\n",
              "      <td>5.9</td>\n",
              "      <td>3.0</td>\n",
              "      <td>5.1</td>\n",
              "      <td>1.8</td>\n",
              "      <td>Iris-virginica</td>\n",
              "    </tr>\n",
              "  </tbody>\n",
              "</table>\n",
              "</div>"
            ],
            "text/plain": [
              "    slength swidth plength pwidth         species\n",
              "148     6.2    3.4     5.4    2.3  Iris-virginica\n",
              "149     5.9    3.0     5.1    1.8  Iris-virginica"
            ]
          },
          "execution_count": 43,
          "metadata": {},
          "output_type": "execute_result"
        }
      ]
    },
    {
      "cell_type": "code",
      "metadata": {
        "id": "bVjX2_Iy06qK",
        "outputId": "6e5c34e6-5896-4274-b86f-fb25007f88ff"
      },
      "source": [
        "dataframe.info()"
      ],
      "execution_count": null,
      "outputs": [
        {
          "name": "stdout",
          "output_type": "stream",
          "text": [
            "<class 'pandas.core.frame.DataFrame'>\n",
            "RangeIndex: 150 entries, 0 to 149\n",
            "Data columns (total 5 columns):\n",
            " #   Column   Non-Null Count  Dtype \n",
            "---  ------   --------------  ----- \n",
            " 0   slength  150 non-null    object\n",
            " 1   swidth   150 non-null    object\n",
            " 2   plength  150 non-null    object\n",
            " 3   pwidth   150 non-null    object\n",
            " 4   species  150 non-null    object\n",
            "dtypes: object(5)\n",
            "memory usage: 6.0+ KB\n"
          ]
        }
      ]
    },
    {
      "cell_type": "markdown",
      "metadata": {
        "id": "hNySrhxP06qK"
      },
      "source": [
        "Find out on wikipedia what this Iris data is about. "
      ]
    },
    {
      "cell_type": "markdown",
      "metadata": {
        "id": "vwEVzhfl06qK"
      },
      "source": [
        "### Hint\n",
        "\n",
        "There are some ways to get help about modules and methods in Jupyter:"
      ]
    },
    {
      "cell_type": "code",
      "metadata": {
        "id": "umgUyQ4i06qL"
      },
      "source": [
        "dataframe. #(tab completion - type tab after the dot to see all methods)"
      ],
      "execution_count": null,
      "outputs": []
    },
    {
      "cell_type": "markdown",
      "metadata": {
        "id": "YCAPpVAq06qL"
      },
      "source": [
        "Get help about this object, if there is any:"
      ]
    },
    {
      "cell_type": "code",
      "metadata": {
        "id": "ZctEUABs06qL"
      },
      "source": [
        "dataframe?"
      ],
      "execution_count": null,
      "outputs": []
    },
    {
      "cell_type": "markdown",
      "metadata": {
        "id": "_5pTPqZA06qM"
      },
      "source": [
        "And, what you will probably use the most, the online package information and examples by googling."
      ]
    },
    {
      "cell_type": "markdown",
      "metadata": {
        "id": "Dp-beMVD06qM"
      },
      "source": [
        "### Exercise 1.1 (10 min)\n",
        "\n",
        "Read the Swiss BAG Corona data into a dataframe and look at it. The URL is\n",
        "'https://www.bag.admin.ch/dam/bag/de/dokumente/mt/k-und-i/aktuelle-ausbrueche-pandemien/2019-nCoV/covid-19-datengrundlage-lagebericht.xlsx.download.xlsx/200325_Datengrundlage_Grafiken_COVID-19-Bericht.xlsx'.\n",
        "\n",
        "You will probably need to consult https://pandas.pydata.org/docs/reference/io.html in order to find out how to read a excel sheets into a pandas dataframe. "
      ]
    },
    {
      "cell_type": "code",
      "metadata": {
        "id": "bjGxXL8k06qM",
        "outputId": "b3a470e2-77a7-4111-82de-3abeb5fab6b1"
      },
      "source": [
        "# Write your code here\n",
        "url = 'https://www.bag.admin.ch/dam/bag/de/dokumente/mt/k-und-i/aktuelle-ausbrueche-pandemien/2019-nCoV/covid-19-datengrundlage-lagebericht.xlsx.download.xlsx/200325_Datengrundlage_Grafiken_COVID-19-Bericht.xlsx'  \n",
        "df = pd.read_excel(url, header=6)\n",
        "df[150:180]"
      ],
      "execution_count": null,
      "outputs": [
        {
          "data": {
            "text/html": [
              "<div>\n",
              "<style scoped>\n",
              "    .dataframe tbody tr th:only-of-type {\n",
              "        vertical-align: middle;\n",
              "    }\n",
              "\n",
              "    .dataframe tbody tr th {\n",
              "        vertical-align: top;\n",
              "    }\n",
              "\n",
              "    .dataframe thead th {\n",
              "        text-align: right;\n",
              "    }\n",
              "</style>\n",
              "<table border=\"1\" class=\"dataframe\">\n",
              "  <thead>\n",
              "    <tr style=\"text-align: right;\">\n",
              "      <th></th>\n",
              "      <th>Datum</th>\n",
              "      <th>Fallzahlen pro Tag</th>\n",
              "      <th>Fallzahlen pro Tag, kumuliert</th>\n",
              "      <th>Hospitalisationen pro Tag</th>\n",
              "      <th>Hospitalisationen pro Tag, Kumuliert</th>\n",
              "      <th>Todesfälle pro Tag</th>\n",
              "      <th>Todesfälle pro Tag, kumuliert</th>\n",
              "    </tr>\n",
              "  </thead>\n",
              "  <tbody>\n",
              "    <tr>\n",
              "      <th>150</th>\n",
              "      <td>2020-07-23</td>\n",
              "      <td>143</td>\n",
              "      <td>34230</td>\n",
              "      <td>7</td>\n",
              "      <td>4145</td>\n",
              "      <td>0.0</td>\n",
              "      <td>1701.0</td>\n",
              "    </tr>\n",
              "    <tr>\n",
              "      <th>151</th>\n",
              "      <td>2020-07-24</td>\n",
              "      <td>148</td>\n",
              "      <td>34378</td>\n",
              "      <td>12</td>\n",
              "      <td>4157</td>\n",
              "      <td>1.0</td>\n",
              "      <td>1702.0</td>\n",
              "    </tr>\n",
              "    <tr>\n",
              "      <th>152</th>\n",
              "      <td>2020-07-25</td>\n",
              "      <td>95</td>\n",
              "      <td>34473</td>\n",
              "      <td>9</td>\n",
              "      <td>4166</td>\n",
              "      <td>1.0</td>\n",
              "      <td>1703.0</td>\n",
              "    </tr>\n",
              "    <tr>\n",
              "      <th>153</th>\n",
              "      <td>2020-07-26</td>\n",
              "      <td>55</td>\n",
              "      <td>34528</td>\n",
              "      <td>3</td>\n",
              "      <td>4169</td>\n",
              "      <td>0.0</td>\n",
              "      <td>1703.0</td>\n",
              "    </tr>\n",
              "    <tr>\n",
              "      <th>154</th>\n",
              "      <td>2020-07-27</td>\n",
              "      <td>193</td>\n",
              "      <td>34721</td>\n",
              "      <td>7</td>\n",
              "      <td>4176</td>\n",
              "      <td>1.0</td>\n",
              "      <td>1704.0</td>\n",
              "    </tr>\n",
              "    <tr>\n",
              "      <th>155</th>\n",
              "      <td>2020-07-28</td>\n",
              "      <td>187</td>\n",
              "      <td>34908</td>\n",
              "      <td>12</td>\n",
              "      <td>4188</td>\n",
              "      <td>1.0</td>\n",
              "      <td>1705.0</td>\n",
              "    </tr>\n",
              "    <tr>\n",
              "      <th>156</th>\n",
              "      <td>2020-07-29</td>\n",
              "      <td>220</td>\n",
              "      <td>35128</td>\n",
              "      <td>14</td>\n",
              "      <td>4202</td>\n",
              "      <td>0.0</td>\n",
              "      <td>1705.0</td>\n",
              "    </tr>\n",
              "    <tr>\n",
              "      <th>157</th>\n",
              "      <td>2020-07-30</td>\n",
              "      <td>211</td>\n",
              "      <td>35339</td>\n",
              "      <td>5</td>\n",
              "      <td>4207</td>\n",
              "      <td>0.0</td>\n",
              "      <td>1705.0</td>\n",
              "    </tr>\n",
              "    <tr>\n",
              "      <th>158</th>\n",
              "      <td>2020-07-31</td>\n",
              "      <td>163</td>\n",
              "      <td>35502</td>\n",
              "      <td>5</td>\n",
              "      <td>4212</td>\n",
              "      <td>2.0</td>\n",
              "      <td>1707.0</td>\n",
              "    </tr>\n",
              "    <tr>\n",
              "      <th>159</th>\n",
              "      <td>2020-08-01</td>\n",
              "      <td>94</td>\n",
              "      <td>35596</td>\n",
              "      <td>5</td>\n",
              "      <td>4217</td>\n",
              "      <td>1.0</td>\n",
              "      <td>1708.0</td>\n",
              "    </tr>\n",
              "    <tr>\n",
              "      <th>160</th>\n",
              "      <td>2020-08-02</td>\n",
              "      <td>80</td>\n",
              "      <td>35676</td>\n",
              "      <td>4</td>\n",
              "      <td>4221</td>\n",
              "      <td>0.0</td>\n",
              "      <td>1708.0</td>\n",
              "    </tr>\n",
              "    <tr>\n",
              "      <th>161</th>\n",
              "      <td>2020-08-03</td>\n",
              "      <td>193</td>\n",
              "      <td>35869</td>\n",
              "      <td>3</td>\n",
              "      <td>4224</td>\n",
              "      <td>0.0</td>\n",
              "      <td>1708.0</td>\n",
              "    </tr>\n",
              "    <tr>\n",
              "      <th>162</th>\n",
              "      <td>2020-08-04</td>\n",
              "      <td>180</td>\n",
              "      <td>36049</td>\n",
              "      <td>2</td>\n",
              "      <td>4226</td>\n",
              "      <td>1.0</td>\n",
              "      <td>1709.0</td>\n",
              "    </tr>\n",
              "    <tr>\n",
              "      <th>163</th>\n",
              "      <td>2020-08-05</td>\n",
              "      <td>153</td>\n",
              "      <td>36202</td>\n",
              "      <td>7</td>\n",
              "      <td>4233</td>\n",
              "      <td>1.0</td>\n",
              "      <td>1710.0</td>\n",
              "    </tr>\n",
              "    <tr>\n",
              "      <th>164</th>\n",
              "      <td>2020-08-06</td>\n",
              "      <td>156</td>\n",
              "      <td>36358</td>\n",
              "      <td>9</td>\n",
              "      <td>4242</td>\n",
              "      <td>1.0</td>\n",
              "      <td>1711.0</td>\n",
              "    </tr>\n",
              "    <tr>\n",
              "      <th>165</th>\n",
              "      <td>2020-08-07</td>\n",
              "      <td>182</td>\n",
              "      <td>36540</td>\n",
              "      <td>5</td>\n",
              "      <td>4247</td>\n",
              "      <td>1.0</td>\n",
              "      <td>1712.0</td>\n",
              "    </tr>\n",
              "    <tr>\n",
              "      <th>166</th>\n",
              "      <td>2020-08-08</td>\n",
              "      <td>129</td>\n",
              "      <td>36669</td>\n",
              "      <td>7</td>\n",
              "      <td>4254</td>\n",
              "      <td>1.0</td>\n",
              "      <td>1713.0</td>\n",
              "    </tr>\n",
              "    <tr>\n",
              "      <th>167</th>\n",
              "      <td>2020-08-09</td>\n",
              "      <td>99</td>\n",
              "      <td>36768</td>\n",
              "      <td>6</td>\n",
              "      <td>4260</td>\n",
              "      <td>0.0</td>\n",
              "      <td>1713.0</td>\n",
              "    </tr>\n",
              "    <tr>\n",
              "      <th>168</th>\n",
              "      <td>2020-08-10</td>\n",
              "      <td>280</td>\n",
              "      <td>37048</td>\n",
              "      <td>7</td>\n",
              "      <td>4267</td>\n",
              "      <td>1.0</td>\n",
              "      <td>1714.0</td>\n",
              "    </tr>\n",
              "    <tr>\n",
              "      <th>169</th>\n",
              "      <td>2020-08-11</td>\n",
              "      <td>255</td>\n",
              "      <td>37303</td>\n",
              "      <td>3</td>\n",
              "      <td>4270</td>\n",
              "      <td>0.0</td>\n",
              "      <td>1714.0</td>\n",
              "    </tr>\n",
              "    <tr>\n",
              "      <th>170</th>\n",
              "      <td>2020-08-12</td>\n",
              "      <td>248</td>\n",
              "      <td>37551</td>\n",
              "      <td>2</td>\n",
              "      <td>4272</td>\n",
              "      <td>0.0</td>\n",
              "      <td>1714.0</td>\n",
              "    </tr>\n",
              "    <tr>\n",
              "      <th>171</th>\n",
              "      <td>2020-08-13</td>\n",
              "      <td>269</td>\n",
              "      <td>37820</td>\n",
              "      <td>7</td>\n",
              "      <td>4279</td>\n",
              "      <td>1.0</td>\n",
              "      <td>1715.0</td>\n",
              "    </tr>\n",
              "    <tr>\n",
              "      <th>172</th>\n",
              "      <td>2020-08-14</td>\n",
              "      <td>235</td>\n",
              "      <td>38055</td>\n",
              "      <td>4</td>\n",
              "      <td>4283</td>\n",
              "      <td>0.0</td>\n",
              "      <td>1715.0</td>\n",
              "    </tr>\n",
              "    <tr>\n",
              "      <th>173</th>\n",
              "      <td>2020-08-15</td>\n",
              "      <td>146</td>\n",
              "      <td>38201</td>\n",
              "      <td>4</td>\n",
              "      <td>4287</td>\n",
              "      <td>3.0</td>\n",
              "      <td>1718.0</td>\n",
              "    </tr>\n",
              "    <tr>\n",
              "      <th>174</th>\n",
              "      <td>2020-08-16</td>\n",
              "      <td>140</td>\n",
              "      <td>38341</td>\n",
              "      <td>5</td>\n",
              "      <td>4292</td>\n",
              "      <td>0.0</td>\n",
              "      <td>1718.0</td>\n",
              "    </tr>\n",
              "    <tr>\n",
              "      <th>175</th>\n",
              "      <td>2020-08-17</td>\n",
              "      <td>277</td>\n",
              "      <td>38618</td>\n",
              "      <td>7</td>\n",
              "      <td>4299</td>\n",
              "      <td>1.0</td>\n",
              "      <td>1719.0</td>\n",
              "    </tr>\n",
              "    <tr>\n",
              "      <th>176</th>\n",
              "      <td>2020-08-18</td>\n",
              "      <td>142</td>\n",
              "      <td>38760</td>\n",
              "      <td>3</td>\n",
              "      <td>4302</td>\n",
              "      <td>0.0</td>\n",
              "      <td>1719.0</td>\n",
              "    </tr>\n",
              "    <tr>\n",
              "      <th>177</th>\n",
              "      <td>2020-08-19</td>\n",
              "      <td>0</td>\n",
              "      <td>38760</td>\n",
              "      <td>0</td>\n",
              "      <td>4302</td>\n",
              "      <td>0.0</td>\n",
              "      <td>1719.0</td>\n",
              "    </tr>\n",
              "  </tbody>\n",
              "</table>\n",
              "</div>"
            ],
            "text/plain": [
              "         Datum  Fallzahlen pro Tag  Fallzahlen pro Tag, kumuliert  \\\n",
              "150 2020-07-23                 143                          34230   \n",
              "151 2020-07-24                 148                          34378   \n",
              "152 2020-07-25                  95                          34473   \n",
              "153 2020-07-26                  55                          34528   \n",
              "154 2020-07-27                 193                          34721   \n",
              "155 2020-07-28                 187                          34908   \n",
              "156 2020-07-29                 220                          35128   \n",
              "157 2020-07-30                 211                          35339   \n",
              "158 2020-07-31                 163                          35502   \n",
              "159 2020-08-01                  94                          35596   \n",
              "160 2020-08-02                  80                          35676   \n",
              "161 2020-08-03                 193                          35869   \n",
              "162 2020-08-04                 180                          36049   \n",
              "163 2020-08-05                 153                          36202   \n",
              "164 2020-08-06                 156                          36358   \n",
              "165 2020-08-07                 182                          36540   \n",
              "166 2020-08-08                 129                          36669   \n",
              "167 2020-08-09                  99                          36768   \n",
              "168 2020-08-10                 280                          37048   \n",
              "169 2020-08-11                 255                          37303   \n",
              "170 2020-08-12                 248                          37551   \n",
              "171 2020-08-13                 269                          37820   \n",
              "172 2020-08-14                 235                          38055   \n",
              "173 2020-08-15                 146                          38201   \n",
              "174 2020-08-16                 140                          38341   \n",
              "175 2020-08-17                 277                          38618   \n",
              "176 2020-08-18                 142                          38760   \n",
              "177 2020-08-19                   0                          38760   \n",
              "\n",
              "     Hospitalisationen pro Tag  Hospitalisationen pro Tag, Kumuliert  \\\n",
              "150                          7                                  4145   \n",
              "151                         12                                  4157   \n",
              "152                          9                                  4166   \n",
              "153                          3                                  4169   \n",
              "154                          7                                  4176   \n",
              "155                         12                                  4188   \n",
              "156                         14                                  4202   \n",
              "157                          5                                  4207   \n",
              "158                          5                                  4212   \n",
              "159                          5                                  4217   \n",
              "160                          4                                  4221   \n",
              "161                          3                                  4224   \n",
              "162                          2                                  4226   \n",
              "163                          7                                  4233   \n",
              "164                          9                                  4242   \n",
              "165                          5                                  4247   \n",
              "166                          7                                  4254   \n",
              "167                          6                                  4260   \n",
              "168                          7                                  4267   \n",
              "169                          3                                  4270   \n",
              "170                          2                                  4272   \n",
              "171                          7                                  4279   \n",
              "172                          4                                  4283   \n",
              "173                          4                                  4287   \n",
              "174                          5                                  4292   \n",
              "175                          7                                  4299   \n",
              "176                          3                                  4302   \n",
              "177                          0                                  4302   \n",
              "\n",
              "     Todesfälle pro Tag  Todesfälle pro Tag, kumuliert  \n",
              "150                 0.0                         1701.0  \n",
              "151                 1.0                         1702.0  \n",
              "152                 1.0                         1703.0  \n",
              "153                 0.0                         1703.0  \n",
              "154                 1.0                         1704.0  \n",
              "155                 1.0                         1705.0  \n",
              "156                 0.0                         1705.0  \n",
              "157                 0.0                         1705.0  \n",
              "158                 2.0                         1707.0  \n",
              "159                 1.0                         1708.0  \n",
              "160                 0.0                         1708.0  \n",
              "161                 0.0                         1708.0  \n",
              "162                 1.0                         1709.0  \n",
              "163                 1.0                         1710.0  \n",
              "164                 1.0                         1711.0  \n",
              "165                 1.0                         1712.0  \n",
              "166                 1.0                         1713.0  \n",
              "167                 0.0                         1713.0  \n",
              "168                 1.0                         1714.0  \n",
              "169                 0.0                         1714.0  \n",
              "170                 0.0                         1714.0  \n",
              "171                 1.0                         1715.0  \n",
              "172                 0.0                         1715.0  \n",
              "173                 3.0                         1718.0  \n",
              "174                 0.0                         1718.0  \n",
              "175                 1.0                         1719.0  \n",
              "176                 0.0                         1719.0  \n",
              "177                 0.0                         1719.0  "
            ]
          },
          "execution_count": 3,
          "metadata": {},
          "output_type": "execute_result"
        }
      ]
    },
    {
      "cell_type": "code",
      "metadata": {
        "id": "dIR8YyDP06qM",
        "outputId": "c206b4f3-7700-4859-e119-fbfb221e454b"
      },
      "source": [
        "df[140:142]"
      ],
      "execution_count": null,
      "outputs": [
        {
          "data": {
            "text/html": [
              "<div>\n",
              "<style scoped>\n",
              "    .dataframe tbody tr th:only-of-type {\n",
              "        vertical-align: middle;\n",
              "    }\n",
              "\n",
              "    .dataframe tbody tr th {\n",
              "        vertical-align: top;\n",
              "    }\n",
              "\n",
              "    .dataframe thead th {\n",
              "        text-align: right;\n",
              "    }\n",
              "</style>\n",
              "<table border=\"1\" class=\"dataframe\">\n",
              "  <thead>\n",
              "    <tr style=\"text-align: right;\">\n",
              "      <th></th>\n",
              "      <th>Datum</th>\n",
              "      <th>Fallzahlen pro Tag</th>\n",
              "      <th>Fallzahlen pro Tag, kumuliert</th>\n",
              "      <th>Hospitalisationen pro Tag</th>\n",
              "      <th>Hospitalisationen pro Tag, Kumuliert</th>\n",
              "      <th>Todesfälle pro Tag</th>\n",
              "      <th>Todesfälle pro Tag, kumuliert</th>\n",
              "    </tr>\n",
              "  </thead>\n",
              "  <tbody>\n",
              "    <tr>\n",
              "      <th>140</th>\n",
              "      <td>2020-07-13</td>\n",
              "      <td>120</td>\n",
              "      <td>33114</td>\n",
              "      <td>5</td>\n",
              "      <td>4089</td>\n",
              "      <td>1.0</td>\n",
              "      <td>1695.0</td>\n",
              "    </tr>\n",
              "    <tr>\n",
              "      <th>141</th>\n",
              "      <td>2020-07-14</td>\n",
              "      <td>128</td>\n",
              "      <td>33242</td>\n",
              "      <td>5</td>\n",
              "      <td>4094</td>\n",
              "      <td>0.0</td>\n",
              "      <td>1695.0</td>\n",
              "    </tr>\n",
              "  </tbody>\n",
              "</table>\n",
              "</div>"
            ],
            "text/plain": [
              "         Datum  Fallzahlen pro Tag  Fallzahlen pro Tag, kumuliert  \\\n",
              "140 2020-07-13                 120                          33114   \n",
              "141 2020-07-14                 128                          33242   \n",
              "\n",
              "     Hospitalisationen pro Tag  Hospitalisationen pro Tag, Kumuliert  \\\n",
              "140                          5                                  4089   \n",
              "141                          5                                  4094   \n",
              "\n",
              "     Todesfälle pro Tag  Todesfälle pro Tag, kumuliert  \n",
              "140                 1.0                         1695.0  \n",
              "141                 0.0                         1695.0  "
            ]
          },
          "execution_count": 35,
          "metadata": {},
          "output_type": "execute_result"
        }
      ]
    },
    {
      "cell_type": "markdown",
      "metadata": {
        "id": "xCI7ub-706qN"
      },
      "source": [
        "### 3. Indexing on a DataFrame\n",
        "\n",
        "By methods:"
      ]
    },
    {
      "cell_type": "code",
      "metadata": {
        "id": "R0sDmvr006qN",
        "outputId": "b187b7cb-b818-406e-c568-ed25090f05f6"
      },
      "source": [
        "dataframe.iat[-1,0] # by integer numbers (row 149, column 1)"
      ],
      "execution_count": null,
      "outputs": [
        {
          "data": {
            "text/plain": [
              "'5.9'"
            ]
          },
          "execution_count": 44,
          "metadata": {},
          "output_type": "execute_result"
        }
      ]
    },
    {
      "cell_type": "code",
      "metadata": {
        "id": "fqooteZO06qN",
        "outputId": "e4e33a09-5d83-41a7-bb60-10e47ee75342"
      },
      "source": [
        "dataframe.at[1,'swidth'] # by row number and column name"
      ],
      "execution_count": null,
      "outputs": [
        {
          "data": {
            "text/plain": [
              "'3.0'"
            ]
          },
          "execution_count": 45,
          "metadata": {},
          "output_type": "execute_result"
        }
      ]
    },
    {
      "cell_type": "code",
      "metadata": {
        "id": "HglpOox106qN",
        "outputId": "51a0f336-ea51-4f30-b819-cb8bc1ce6d7d"
      },
      "source": [
        "dataframe.iat[1,1]=10 # Assign a new value\n",
        "dataframe.head()"
      ],
      "execution_count": null,
      "outputs": [
        {
          "data": {
            "text/html": [
              "<div>\n",
              "<style scoped>\n",
              "    .dataframe tbody tr th:only-of-type {\n",
              "        vertical-align: middle;\n",
              "    }\n",
              "\n",
              "    .dataframe tbody tr th {\n",
              "        vertical-align: top;\n",
              "    }\n",
              "\n",
              "    .dataframe thead th {\n",
              "        text-align: right;\n",
              "    }\n",
              "</style>\n",
              "<table border=\"1\" class=\"dataframe\">\n",
              "  <thead>\n",
              "    <tr style=\"text-align: right;\">\n",
              "      <th></th>\n",
              "      <th>slength</th>\n",
              "      <th>swidth</th>\n",
              "      <th>plength</th>\n",
              "      <th>pwidth</th>\n",
              "      <th>species</th>\n",
              "    </tr>\n",
              "  </thead>\n",
              "  <tbody>\n",
              "    <tr>\n",
              "      <th>0</th>\n",
              "      <td>5.1</td>\n",
              "      <td>3.5</td>\n",
              "      <td>1.4</td>\n",
              "      <td>0.2</td>\n",
              "      <td>Iris-setosa</td>\n",
              "    </tr>\n",
              "    <tr>\n",
              "      <th>1</th>\n",
              "      <td>4.9</td>\n",
              "      <td>10</td>\n",
              "      <td>1.4</td>\n",
              "      <td>0.2</td>\n",
              "      <td>Iris-setosa</td>\n",
              "    </tr>\n",
              "    <tr>\n",
              "      <th>2</th>\n",
              "      <td>4.7</td>\n",
              "      <td>3.2</td>\n",
              "      <td>1.3</td>\n",
              "      <td>0.2</td>\n",
              "      <td>Iris-setosa</td>\n",
              "    </tr>\n",
              "    <tr>\n",
              "      <th>3</th>\n",
              "      <td>4.6</td>\n",
              "      <td>3.1</td>\n",
              "      <td>1.5</td>\n",
              "      <td>0.2</td>\n",
              "      <td>Iris-setosa</td>\n",
              "    </tr>\n",
              "    <tr>\n",
              "      <th>4</th>\n",
              "      <td>5.0</td>\n",
              "      <td>3.6</td>\n",
              "      <td>1.4</td>\n",
              "      <td>0.2</td>\n",
              "      <td>Iris-setosa</td>\n",
              "    </tr>\n",
              "  </tbody>\n",
              "</table>\n",
              "</div>"
            ],
            "text/plain": [
              "  slength swidth plength pwidth      species\n",
              "0     5.1    3.5     1.4    0.2  Iris-setosa\n",
              "1     4.9     10     1.4    0.2  Iris-setosa\n",
              "2     4.7    3.2     1.3    0.2  Iris-setosa\n",
              "3     4.6    3.1     1.5    0.2  Iris-setosa\n",
              "4     5.0    3.6     1.4    0.2  Iris-setosa"
            ]
          },
          "execution_count": 48,
          "metadata": {},
          "output_type": "execute_result"
        }
      ]
    },
    {
      "cell_type": "markdown",
      "metadata": {
        "id": "jf6gF3jr06qN"
      },
      "source": [
        "Indexing a group/subset of the dataframe"
      ]
    },
    {
      "cell_type": "code",
      "metadata": {
        "id": "CvKPHzP106qO",
        "outputId": "100e5290-3a3e-4b62-c85d-b421c2ed250c"
      },
      "source": [
        "sdf = dataframe.iloc[0:10,0:5]\n",
        "sdf"
      ],
      "execution_count": null,
      "outputs": [
        {
          "data": {
            "text/html": [
              "<div>\n",
              "<style scoped>\n",
              "    .dataframe tbody tr th:only-of-type {\n",
              "        vertical-align: middle;\n",
              "    }\n",
              "\n",
              "    .dataframe tbody tr th {\n",
              "        vertical-align: top;\n",
              "    }\n",
              "\n",
              "    .dataframe thead th {\n",
              "        text-align: right;\n",
              "    }\n",
              "</style>\n",
              "<table border=\"1\" class=\"dataframe\">\n",
              "  <thead>\n",
              "    <tr style=\"text-align: right;\">\n",
              "      <th></th>\n",
              "      <th>slength</th>\n",
              "      <th>swidth</th>\n",
              "      <th>plength</th>\n",
              "      <th>pwidth</th>\n",
              "      <th>species</th>\n",
              "    </tr>\n",
              "  </thead>\n",
              "  <tbody>\n",
              "    <tr>\n",
              "      <th>0</th>\n",
              "      <td>5.1</td>\n",
              "      <td>3.5</td>\n",
              "      <td>1.4</td>\n",
              "      <td>0.2</td>\n",
              "      <td>Iris-setosa</td>\n",
              "    </tr>\n",
              "    <tr>\n",
              "      <th>1</th>\n",
              "      <td>4.9</td>\n",
              "      <td>10</td>\n",
              "      <td>1.4</td>\n",
              "      <td>0.2</td>\n",
              "      <td>Iris-setosa</td>\n",
              "    </tr>\n",
              "    <tr>\n",
              "      <th>2</th>\n",
              "      <td>4.7</td>\n",
              "      <td>3.2</td>\n",
              "      <td>1.3</td>\n",
              "      <td>0.2</td>\n",
              "      <td>Iris-setosa</td>\n",
              "    </tr>\n",
              "    <tr>\n",
              "      <th>3</th>\n",
              "      <td>4.6</td>\n",
              "      <td>3.1</td>\n",
              "      <td>1.5</td>\n",
              "      <td>0.2</td>\n",
              "      <td>Iris-setosa</td>\n",
              "    </tr>\n",
              "    <tr>\n",
              "      <th>4</th>\n",
              "      <td>5.0</td>\n",
              "      <td>3.6</td>\n",
              "      <td>1.4</td>\n",
              "      <td>0.2</td>\n",
              "      <td>Iris-setosa</td>\n",
              "    </tr>\n",
              "    <tr>\n",
              "      <th>5</th>\n",
              "      <td>5.4</td>\n",
              "      <td>3.9</td>\n",
              "      <td>1.7</td>\n",
              "      <td>0.4</td>\n",
              "      <td>Iris-setosa</td>\n",
              "    </tr>\n",
              "    <tr>\n",
              "      <th>6</th>\n",
              "      <td>4.6</td>\n",
              "      <td>3.4</td>\n",
              "      <td>1.4</td>\n",
              "      <td>0.3</td>\n",
              "      <td>Iris-setosa</td>\n",
              "    </tr>\n",
              "    <tr>\n",
              "      <th>7</th>\n",
              "      <td>5.0</td>\n",
              "      <td>3.4</td>\n",
              "      <td>1.5</td>\n",
              "      <td>0.2</td>\n",
              "      <td>Iris-setosa</td>\n",
              "    </tr>\n",
              "    <tr>\n",
              "      <th>8</th>\n",
              "      <td>4.4</td>\n",
              "      <td>2.9</td>\n",
              "      <td>1.4</td>\n",
              "      <td>0.2</td>\n",
              "      <td>Iris-setosa</td>\n",
              "    </tr>\n",
              "    <tr>\n",
              "      <th>9</th>\n",
              "      <td>4.9</td>\n",
              "      <td>3.1</td>\n",
              "      <td>1.5</td>\n",
              "      <td>0.1</td>\n",
              "      <td>Iris-setosa</td>\n",
              "    </tr>\n",
              "  </tbody>\n",
              "</table>\n",
              "</div>"
            ],
            "text/plain": [
              "  slength swidth plength pwidth      species\n",
              "0     5.1    3.5     1.4    0.2  Iris-setosa\n",
              "1     4.9     10     1.4    0.2  Iris-setosa\n",
              "2     4.7    3.2     1.3    0.2  Iris-setosa\n",
              "3     4.6    3.1     1.5    0.2  Iris-setosa\n",
              "4     5.0    3.6     1.4    0.2  Iris-setosa\n",
              "5     5.4    3.9     1.7    0.4  Iris-setosa\n",
              "6     4.6    3.4     1.4    0.3  Iris-setosa\n",
              "7     5.0    3.4     1.5    0.2  Iris-setosa\n",
              "8     4.4    2.9     1.4    0.2  Iris-setosa\n",
              "9     4.9    3.1     1.5    0.1  Iris-setosa"
            ]
          },
          "execution_count": 50,
          "metadata": {},
          "output_type": "execute_result"
        }
      ]
    },
    {
      "cell_type": "markdown",
      "metadata": {
        "id": "8holfyZd06qO"
      },
      "source": [
        "**Important** \n",
        "When you assign a (subset) of dataframe to a new one like above, no copy is made. This means that if you change values of the new frame, also the orginal frame will be changed. If you want a copy, you need to use the copy method."
      ]
    },
    {
      "cell_type": "markdown",
      "metadata": {
        "id": "9n8pa6UH06qO"
      },
      "source": [
        "Indexing by column names..."
      ]
    },
    {
      "cell_type": "code",
      "metadata": {
        "id": "ZapUeo_x06qO",
        "outputId": "b7b0f04e-91cb-40b3-a823-866422e209c2"
      },
      "source": [
        "sdf['slength']"
      ],
      "execution_count": null,
      "outputs": [
        {
          "data": {
            "text/plain": [
              "0    5.1\n",
              "1    4.9\n",
              "2    4.7\n",
              "3    4.6\n",
              "4    5.0\n",
              "5    5.4\n",
              "6    4.6\n",
              "7    5.0\n",
              "8    4.4\n",
              "9    4.9\n",
              "Name: slength, dtype: object"
            ]
          },
          "execution_count": 53,
          "metadata": {},
          "output_type": "execute_result"
        }
      ]
    },
    {
      "cell_type": "markdown",
      "metadata": {
        "id": "R0Sqgdk106qP"
      },
      "source": [
        "Selecting (filtering) by column valuess_df = dataframe[dataframe['species']=='Iris-setosa']"
      ]
    },
    {
      "cell_type": "code",
      "metadata": {
        "id": "BPqUoUYR06qP"
      },
      "source": [
        "s_df = dataframe[dataframe['species']=='Iris-virginica']"
      ],
      "execution_count": null,
      "outputs": []
    },
    {
      "cell_type": "code",
      "metadata": {
        "id": "cp2J-Y0E06qP"
      },
      "source": [
        "#s_df"
      ],
      "execution_count": null,
      "outputs": []
    },
    {
      "cell_type": "markdown",
      "metadata": {
        "id": "IO6qtwYH06qP"
      },
      "source": [
        "Vectorized dataframe manipulations..."
      ]
    },
    {
      "cell_type": "code",
      "metadata": {
        "id": "3dN1twE406qP",
        "outputId": "5dc8f39a-5baf-4c9e-bb95-cbc0bcb2b07b"
      },
      "source": [
        "sdf['half slength']=sdf['slength'].astype('float')/2.\n",
        "sdf"
      ],
      "execution_count": null,
      "outputs": [
        {
          "data": {
            "text/html": [
              "<div>\n",
              "<style scoped>\n",
              "    .dataframe tbody tr th:only-of-type {\n",
              "        vertical-align: middle;\n",
              "    }\n",
              "\n",
              "    .dataframe tbody tr th {\n",
              "        vertical-align: top;\n",
              "    }\n",
              "\n",
              "    .dataframe thead th {\n",
              "        text-align: right;\n",
              "    }\n",
              "</style>\n",
              "<table border=\"1\" class=\"dataframe\">\n",
              "  <thead>\n",
              "    <tr style=\"text-align: right;\">\n",
              "      <th></th>\n",
              "      <th>slength</th>\n",
              "      <th>swidth</th>\n",
              "      <th>plength</th>\n",
              "      <th>pwidth</th>\n",
              "      <th>species</th>\n",
              "      <th>half slength</th>\n",
              "    </tr>\n",
              "  </thead>\n",
              "  <tbody>\n",
              "    <tr>\n",
              "      <th>0</th>\n",
              "      <td>5.1</td>\n",
              "      <td>3.5</td>\n",
              "      <td>1.4</td>\n",
              "      <td>0.2</td>\n",
              "      <td>Iris-setosa</td>\n",
              "      <td>2.55</td>\n",
              "    </tr>\n",
              "    <tr>\n",
              "      <th>1</th>\n",
              "      <td>4.9</td>\n",
              "      <td>10</td>\n",
              "      <td>1.4</td>\n",
              "      <td>0.2</td>\n",
              "      <td>Iris-setosa</td>\n",
              "      <td>2.45</td>\n",
              "    </tr>\n",
              "    <tr>\n",
              "      <th>2</th>\n",
              "      <td>4.7</td>\n",
              "      <td>3.2</td>\n",
              "      <td>1.3</td>\n",
              "      <td>0.2</td>\n",
              "      <td>Iris-setosa</td>\n",
              "      <td>2.35</td>\n",
              "    </tr>\n",
              "    <tr>\n",
              "      <th>3</th>\n",
              "      <td>4.6</td>\n",
              "      <td>3.1</td>\n",
              "      <td>1.5</td>\n",
              "      <td>0.2</td>\n",
              "      <td>Iris-setosa</td>\n",
              "      <td>2.30</td>\n",
              "    </tr>\n",
              "    <tr>\n",
              "      <th>4</th>\n",
              "      <td>5.0</td>\n",
              "      <td>3.6</td>\n",
              "      <td>1.4</td>\n",
              "      <td>0.2</td>\n",
              "      <td>Iris-setosa</td>\n",
              "      <td>2.50</td>\n",
              "    </tr>\n",
              "    <tr>\n",
              "      <th>5</th>\n",
              "      <td>5.4</td>\n",
              "      <td>3.9</td>\n",
              "      <td>1.7</td>\n",
              "      <td>0.4</td>\n",
              "      <td>Iris-setosa</td>\n",
              "      <td>2.70</td>\n",
              "    </tr>\n",
              "    <tr>\n",
              "      <th>6</th>\n",
              "      <td>4.6</td>\n",
              "      <td>3.4</td>\n",
              "      <td>1.4</td>\n",
              "      <td>0.3</td>\n",
              "      <td>Iris-setosa</td>\n",
              "      <td>2.30</td>\n",
              "    </tr>\n",
              "    <tr>\n",
              "      <th>7</th>\n",
              "      <td>5.0</td>\n",
              "      <td>3.4</td>\n",
              "      <td>1.5</td>\n",
              "      <td>0.2</td>\n",
              "      <td>Iris-setosa</td>\n",
              "      <td>2.50</td>\n",
              "    </tr>\n",
              "    <tr>\n",
              "      <th>8</th>\n",
              "      <td>4.4</td>\n",
              "      <td>2.9</td>\n",
              "      <td>1.4</td>\n",
              "      <td>0.2</td>\n",
              "      <td>Iris-setosa</td>\n",
              "      <td>2.20</td>\n",
              "    </tr>\n",
              "    <tr>\n",
              "      <th>9</th>\n",
              "      <td>4.9</td>\n",
              "      <td>3.1</td>\n",
              "      <td>1.5</td>\n",
              "      <td>0.1</td>\n",
              "      <td>Iris-setosa</td>\n",
              "      <td>2.45</td>\n",
              "    </tr>\n",
              "  </tbody>\n",
              "</table>\n",
              "</div>"
            ],
            "text/plain": [
              "  slength swidth plength pwidth      species  half slength\n",
              "0     5.1    3.5     1.4    0.2  Iris-setosa          2.55\n",
              "1     4.9     10     1.4    0.2  Iris-setosa          2.45\n",
              "2     4.7    3.2     1.3    0.2  Iris-setosa          2.35\n",
              "3     4.6    3.1     1.5    0.2  Iris-setosa          2.30\n",
              "4     5.0    3.6     1.4    0.2  Iris-setosa          2.50\n",
              "5     5.4    3.9     1.7    0.4  Iris-setosa          2.70\n",
              "6     4.6    3.4     1.4    0.3  Iris-setosa          2.30\n",
              "7     5.0    3.4     1.5    0.2  Iris-setosa          2.50\n",
              "8     4.4    2.9     1.4    0.2  Iris-setosa          2.20\n",
              "9     4.9    3.1     1.5    0.1  Iris-setosa          2.45"
            ]
          },
          "execution_count": 60,
          "metadata": {},
          "output_type": "execute_result"
        }
      ]
    },
    {
      "cell_type": "code",
      "metadata": {
        "id": "SPJDgpc006qP",
        "outputId": "83b44977-0d27-4bd5-b845-7b3bf1c384e5"
      },
      "source": [
        ""
      ],
      "execution_count": null,
      "outputs": [
        {
          "data": {
            "text/plain": [
              "1.5"
            ]
          },
          "execution_count": 61,
          "metadata": {},
          "output_type": "execute_result"
        }
      ]
    },
    {
      "cell_type": "markdown",
      "metadata": {
        "id": "NkS6YD7V06qQ"
      },
      "source": [
        "### 4. Sorting on a DataFrame\n",
        "\n",
        "..."
      ]
    },
    {
      "cell_type": "code",
      "metadata": {
        "id": "d1hGqMMk06qQ"
      },
      "source": [
        "adf = pd.read_csv('iris.csv',names=['slength','swidth','plength','pwidth','species'])"
      ],
      "execution_count": null,
      "outputs": []
    },
    {
      "cell_type": "code",
      "metadata": {
        "id": "ghnoA6O306qQ",
        "outputId": "cdcdc886-004a-49d6-e268-69f2482172f6"
      },
      "source": [
        "adf.sort_values(['slength','swidth'])\n",
        "#adf.sort_values(['slength'])\n"
      ],
      "execution_count": null,
      "outputs": [
        {
          "data": {
            "text/html": [
              "<div>\n",
              "<style scoped>\n",
              "    .dataframe tbody tr th:only-of-type {\n",
              "        vertical-align: middle;\n",
              "    }\n",
              "\n",
              "    .dataframe tbody tr th {\n",
              "        vertical-align: top;\n",
              "    }\n",
              "\n",
              "    .dataframe thead th {\n",
              "        text-align: right;\n",
              "    }\n",
              "</style>\n",
              "<table border=\"1\" class=\"dataframe\">\n",
              "  <thead>\n",
              "    <tr style=\"text-align: right;\">\n",
              "      <th></th>\n",
              "      <th>slength</th>\n",
              "      <th>swidth</th>\n",
              "      <th>plength</th>\n",
              "      <th>pwidth</th>\n",
              "      <th>species</th>\n",
              "    </tr>\n",
              "  </thead>\n",
              "  <tbody>\n",
              "    <tr>\n",
              "      <th>13</th>\n",
              "      <td>4.3</td>\n",
              "      <td>3.0</td>\n",
              "      <td>1.1</td>\n",
              "      <td>0.1</td>\n",
              "      <td>Iris-setosa</td>\n",
              "    </tr>\n",
              "    <tr>\n",
              "      <th>8</th>\n",
              "      <td>4.4</td>\n",
              "      <td>2.9</td>\n",
              "      <td>1.4</td>\n",
              "      <td>0.2</td>\n",
              "      <td>Iris-setosa</td>\n",
              "    </tr>\n",
              "    <tr>\n",
              "      <th>38</th>\n",
              "      <td>4.4</td>\n",
              "      <td>3.0</td>\n",
              "      <td>1.3</td>\n",
              "      <td>0.2</td>\n",
              "      <td>Iris-setosa</td>\n",
              "    </tr>\n",
              "    <tr>\n",
              "      <th>42</th>\n",
              "      <td>4.4</td>\n",
              "      <td>3.2</td>\n",
              "      <td>1.3</td>\n",
              "      <td>0.2</td>\n",
              "      <td>Iris-setosa</td>\n",
              "    </tr>\n",
              "    <tr>\n",
              "      <th>41</th>\n",
              "      <td>4.5</td>\n",
              "      <td>2.3</td>\n",
              "      <td>1.3</td>\n",
              "      <td>0.3</td>\n",
              "      <td>Iris-setosa</td>\n",
              "    </tr>\n",
              "    <tr>\n",
              "      <th>...</th>\n",
              "      <td>...</td>\n",
              "      <td>...</td>\n",
              "      <td>...</td>\n",
              "      <td>...</td>\n",
              "      <td>...</td>\n",
              "    </tr>\n",
              "    <tr>\n",
              "      <th>118</th>\n",
              "      <td>7.7</td>\n",
              "      <td>2.6</td>\n",
              "      <td>6.9</td>\n",
              "      <td>2.3</td>\n",
              "      <td>Iris-virginica</td>\n",
              "    </tr>\n",
              "    <tr>\n",
              "      <th>122</th>\n",
              "      <td>7.7</td>\n",
              "      <td>2.8</td>\n",
              "      <td>6.7</td>\n",
              "      <td>2.0</td>\n",
              "      <td>Iris-virginica</td>\n",
              "    </tr>\n",
              "    <tr>\n",
              "      <th>135</th>\n",
              "      <td>7.7</td>\n",
              "      <td>3.0</td>\n",
              "      <td>6.1</td>\n",
              "      <td>2.3</td>\n",
              "      <td>Iris-virginica</td>\n",
              "    </tr>\n",
              "    <tr>\n",
              "      <th>117</th>\n",
              "      <td>7.7</td>\n",
              "      <td>3.8</td>\n",
              "      <td>6.7</td>\n",
              "      <td>2.2</td>\n",
              "      <td>Iris-virginica</td>\n",
              "    </tr>\n",
              "    <tr>\n",
              "      <th>131</th>\n",
              "      <td>7.9</td>\n",
              "      <td>3.8</td>\n",
              "      <td>6.4</td>\n",
              "      <td>2.0</td>\n",
              "      <td>Iris-virginica</td>\n",
              "    </tr>\n",
              "  </tbody>\n",
              "</table>\n",
              "<p>150 rows × 5 columns</p>\n",
              "</div>"
            ],
            "text/plain": [
              "     slength  swidth  plength  pwidth         species\n",
              "13       4.3     3.0      1.1     0.1     Iris-setosa\n",
              "8        4.4     2.9      1.4     0.2     Iris-setosa\n",
              "38       4.4     3.0      1.3     0.2     Iris-setosa\n",
              "42       4.4     3.2      1.3     0.2     Iris-setosa\n",
              "41       4.5     2.3      1.3     0.3     Iris-setosa\n",
              "..       ...     ...      ...     ...             ...\n",
              "118      7.7     2.6      6.9     2.3  Iris-virginica\n",
              "122      7.7     2.8      6.7     2.0  Iris-virginica\n",
              "135      7.7     3.0      6.1     2.3  Iris-virginica\n",
              "117      7.7     3.8      6.7     2.2  Iris-virginica\n",
              "131      7.9     3.8      6.4     2.0  Iris-virginica\n",
              "\n",
              "[150 rows x 5 columns]"
            ]
          },
          "execution_count": 71,
          "metadata": {},
          "output_type": "execute_result"
        }
      ]
    },
    {
      "cell_type": "code",
      "metadata": {
        "id": "woS9q3Rb06qQ"
      },
      "source": [
        "sdf"
      ],
      "execution_count": null,
      "outputs": []
    },
    {
      "cell_type": "markdown",
      "metadata": {
        "id": "2xGm6-8W06qQ"
      },
      "source": [
        "You may measure the time needed for the execution, e.g. with the operating system command \"time\". System commands are executed with a %:"
      ]
    },
    {
      "cell_type": "code",
      "metadata": {
        "id": "PyaC-Aj006qQ",
        "outputId": "4f287dc5-4c4e-458c-c869-5d390c92e59b"
      },
      "source": [
        "%time adf[adf['species']=='Iris-setosa'].sort_values('slength')"
      ],
      "execution_count": null,
      "outputs": [
        {
          "name": "stdout",
          "output_type": "stream",
          "text": [
            "CPU times: user 1.7 ms, sys: 135 µs, total: 1.83 ms\n",
            "Wall time: 2.23 ms\n"
          ]
        },
        {
          "data": {
            "text/html": [
              "<div>\n",
              "<style scoped>\n",
              "    .dataframe tbody tr th:only-of-type {\n",
              "        vertical-align: middle;\n",
              "    }\n",
              "\n",
              "    .dataframe tbody tr th {\n",
              "        vertical-align: top;\n",
              "    }\n",
              "\n",
              "    .dataframe thead th {\n",
              "        text-align: right;\n",
              "    }\n",
              "</style>\n",
              "<table border=\"1\" class=\"dataframe\">\n",
              "  <thead>\n",
              "    <tr style=\"text-align: right;\">\n",
              "      <th></th>\n",
              "      <th>slength</th>\n",
              "      <th>swidth</th>\n",
              "      <th>plength</th>\n",
              "      <th>pwidth</th>\n",
              "      <th>species</th>\n",
              "    </tr>\n",
              "  </thead>\n",
              "  <tbody>\n",
              "    <tr>\n",
              "      <th>13</th>\n",
              "      <td>4.3</td>\n",
              "      <td>3.0</td>\n",
              "      <td>1.1</td>\n",
              "      <td>0.1</td>\n",
              "      <td>Iris-setosa</td>\n",
              "    </tr>\n",
              "    <tr>\n",
              "      <th>8</th>\n",
              "      <td>4.4</td>\n",
              "      <td>2.9</td>\n",
              "      <td>1.4</td>\n",
              "      <td>0.2</td>\n",
              "      <td>Iris-setosa</td>\n",
              "    </tr>\n",
              "    <tr>\n",
              "      <th>38</th>\n",
              "      <td>4.4</td>\n",
              "      <td>3.0</td>\n",
              "      <td>1.3</td>\n",
              "      <td>0.2</td>\n",
              "      <td>Iris-setosa</td>\n",
              "    </tr>\n",
              "    <tr>\n",
              "      <th>42</th>\n",
              "      <td>4.4</td>\n",
              "      <td>3.2</td>\n",
              "      <td>1.3</td>\n",
              "      <td>0.2</td>\n",
              "      <td>Iris-setosa</td>\n",
              "    </tr>\n",
              "    <tr>\n",
              "      <th>41</th>\n",
              "      <td>4.5</td>\n",
              "      <td>2.3</td>\n",
              "      <td>1.3</td>\n",
              "      <td>0.3</td>\n",
              "      <td>Iris-setosa</td>\n",
              "    </tr>\n",
              "    <tr>\n",
              "      <th>22</th>\n",
              "      <td>4.6</td>\n",
              "      <td>3.6</td>\n",
              "      <td>1.0</td>\n",
              "      <td>0.2</td>\n",
              "      <td>Iris-setosa</td>\n",
              "    </tr>\n",
              "    <tr>\n",
              "      <th>3</th>\n",
              "      <td>4.6</td>\n",
              "      <td>3.1</td>\n",
              "      <td>1.5</td>\n",
              "      <td>0.2</td>\n",
              "      <td>Iris-setosa</td>\n",
              "    </tr>\n",
              "    <tr>\n",
              "      <th>47</th>\n",
              "      <td>4.6</td>\n",
              "      <td>3.2</td>\n",
              "      <td>1.4</td>\n",
              "      <td>0.2</td>\n",
              "      <td>Iris-setosa</td>\n",
              "    </tr>\n",
              "    <tr>\n",
              "      <th>6</th>\n",
              "      <td>4.6</td>\n",
              "      <td>3.4</td>\n",
              "      <td>1.4</td>\n",
              "      <td>0.3</td>\n",
              "      <td>Iris-setosa</td>\n",
              "    </tr>\n",
              "    <tr>\n",
              "      <th>2</th>\n",
              "      <td>4.7</td>\n",
              "      <td>3.2</td>\n",
              "      <td>1.3</td>\n",
              "      <td>0.2</td>\n",
              "      <td>Iris-setosa</td>\n",
              "    </tr>\n",
              "    <tr>\n",
              "      <th>29</th>\n",
              "      <td>4.7</td>\n",
              "      <td>3.2</td>\n",
              "      <td>1.6</td>\n",
              "      <td>0.2</td>\n",
              "      <td>Iris-setosa</td>\n",
              "    </tr>\n",
              "    <tr>\n",
              "      <th>24</th>\n",
              "      <td>4.8</td>\n",
              "      <td>3.4</td>\n",
              "      <td>1.9</td>\n",
              "      <td>0.2</td>\n",
              "      <td>Iris-setosa</td>\n",
              "    </tr>\n",
              "    <tr>\n",
              "      <th>30</th>\n",
              "      <td>4.8</td>\n",
              "      <td>3.1</td>\n",
              "      <td>1.6</td>\n",
              "      <td>0.2</td>\n",
              "      <td>Iris-setosa</td>\n",
              "    </tr>\n",
              "    <tr>\n",
              "      <th>12</th>\n",
              "      <td>4.8</td>\n",
              "      <td>3.0</td>\n",
              "      <td>1.4</td>\n",
              "      <td>0.1</td>\n",
              "      <td>Iris-setosa</td>\n",
              "    </tr>\n",
              "    <tr>\n",
              "      <th>11</th>\n",
              "      <td>4.8</td>\n",
              "      <td>3.4</td>\n",
              "      <td>1.6</td>\n",
              "      <td>0.2</td>\n",
              "      <td>Iris-setosa</td>\n",
              "    </tr>\n",
              "    <tr>\n",
              "      <th>45</th>\n",
              "      <td>4.8</td>\n",
              "      <td>3.0</td>\n",
              "      <td>1.4</td>\n",
              "      <td>0.3</td>\n",
              "      <td>Iris-setosa</td>\n",
              "    </tr>\n",
              "    <tr>\n",
              "      <th>9</th>\n",
              "      <td>4.9</td>\n",
              "      <td>3.1</td>\n",
              "      <td>1.5</td>\n",
              "      <td>0.1</td>\n",
              "      <td>Iris-setosa</td>\n",
              "    </tr>\n",
              "    <tr>\n",
              "      <th>37</th>\n",
              "      <td>4.9</td>\n",
              "      <td>3.1</td>\n",
              "      <td>1.5</td>\n",
              "      <td>0.1</td>\n",
              "      <td>Iris-setosa</td>\n",
              "    </tr>\n",
              "    <tr>\n",
              "      <th>34</th>\n",
              "      <td>4.9</td>\n",
              "      <td>3.1</td>\n",
              "      <td>1.5</td>\n",
              "      <td>0.1</td>\n",
              "      <td>Iris-setosa</td>\n",
              "    </tr>\n",
              "    <tr>\n",
              "      <th>1</th>\n",
              "      <td>4.9</td>\n",
              "      <td>3.0</td>\n",
              "      <td>1.4</td>\n",
              "      <td>0.2</td>\n",
              "      <td>Iris-setosa</td>\n",
              "    </tr>\n",
              "    <tr>\n",
              "      <th>40</th>\n",
              "      <td>5.0</td>\n",
              "      <td>3.5</td>\n",
              "      <td>1.3</td>\n",
              "      <td>0.3</td>\n",
              "      <td>Iris-setosa</td>\n",
              "    </tr>\n",
              "    <tr>\n",
              "      <th>35</th>\n",
              "      <td>5.0</td>\n",
              "      <td>3.2</td>\n",
              "      <td>1.2</td>\n",
              "      <td>0.2</td>\n",
              "      <td>Iris-setosa</td>\n",
              "    </tr>\n",
              "    <tr>\n",
              "      <th>43</th>\n",
              "      <td>5.0</td>\n",
              "      <td>3.5</td>\n",
              "      <td>1.6</td>\n",
              "      <td>0.6</td>\n",
              "      <td>Iris-setosa</td>\n",
              "    </tr>\n",
              "    <tr>\n",
              "      <th>26</th>\n",
              "      <td>5.0</td>\n",
              "      <td>3.4</td>\n",
              "      <td>1.6</td>\n",
              "      <td>0.4</td>\n",
              "      <td>Iris-setosa</td>\n",
              "    </tr>\n",
              "    <tr>\n",
              "      <th>25</th>\n",
              "      <td>5.0</td>\n",
              "      <td>3.0</td>\n",
              "      <td>1.6</td>\n",
              "      <td>0.2</td>\n",
              "      <td>Iris-setosa</td>\n",
              "    </tr>\n",
              "    <tr>\n",
              "      <th>49</th>\n",
              "      <td>5.0</td>\n",
              "      <td>3.3</td>\n",
              "      <td>1.4</td>\n",
              "      <td>0.2</td>\n",
              "      <td>Iris-setosa</td>\n",
              "    </tr>\n",
              "    <tr>\n",
              "      <th>4</th>\n",
              "      <td>5.0</td>\n",
              "      <td>3.6</td>\n",
              "      <td>1.4</td>\n",
              "      <td>0.2</td>\n",
              "      <td>Iris-setosa</td>\n",
              "    </tr>\n",
              "    <tr>\n",
              "      <th>7</th>\n",
              "      <td>5.0</td>\n",
              "      <td>3.4</td>\n",
              "      <td>1.5</td>\n",
              "      <td>0.2</td>\n",
              "      <td>Iris-setosa</td>\n",
              "    </tr>\n",
              "    <tr>\n",
              "      <th>23</th>\n",
              "      <td>5.1</td>\n",
              "      <td>3.3</td>\n",
              "      <td>1.7</td>\n",
              "      <td>0.5</td>\n",
              "      <td>Iris-setosa</td>\n",
              "    </tr>\n",
              "    <tr>\n",
              "      <th>46</th>\n",
              "      <td>5.1</td>\n",
              "      <td>3.8</td>\n",
              "      <td>1.6</td>\n",
              "      <td>0.2</td>\n",
              "      <td>Iris-setosa</td>\n",
              "    </tr>\n",
              "    <tr>\n",
              "      <th>44</th>\n",
              "      <td>5.1</td>\n",
              "      <td>3.8</td>\n",
              "      <td>1.9</td>\n",
              "      <td>0.4</td>\n",
              "      <td>Iris-setosa</td>\n",
              "    </tr>\n",
              "    <tr>\n",
              "      <th>39</th>\n",
              "      <td>5.1</td>\n",
              "      <td>3.4</td>\n",
              "      <td>1.5</td>\n",
              "      <td>0.2</td>\n",
              "      <td>Iris-setosa</td>\n",
              "    </tr>\n",
              "    <tr>\n",
              "      <th>19</th>\n",
              "      <td>5.1</td>\n",
              "      <td>3.8</td>\n",
              "      <td>1.5</td>\n",
              "      <td>0.3</td>\n",
              "      <td>Iris-setosa</td>\n",
              "    </tr>\n",
              "    <tr>\n",
              "      <th>17</th>\n",
              "      <td>5.1</td>\n",
              "      <td>3.5</td>\n",
              "      <td>1.4</td>\n",
              "      <td>0.3</td>\n",
              "      <td>Iris-setosa</td>\n",
              "    </tr>\n",
              "    <tr>\n",
              "      <th>21</th>\n",
              "      <td>5.1</td>\n",
              "      <td>3.7</td>\n",
              "      <td>1.5</td>\n",
              "      <td>0.4</td>\n",
              "      <td>Iris-setosa</td>\n",
              "    </tr>\n",
              "    <tr>\n",
              "      <th>0</th>\n",
              "      <td>5.1</td>\n",
              "      <td>3.5</td>\n",
              "      <td>1.4</td>\n",
              "      <td>0.2</td>\n",
              "      <td>Iris-setosa</td>\n",
              "    </tr>\n",
              "    <tr>\n",
              "      <th>32</th>\n",
              "      <td>5.2</td>\n",
              "      <td>4.1</td>\n",
              "      <td>1.5</td>\n",
              "      <td>0.1</td>\n",
              "      <td>Iris-setosa</td>\n",
              "    </tr>\n",
              "    <tr>\n",
              "      <th>28</th>\n",
              "      <td>5.2</td>\n",
              "      <td>3.4</td>\n",
              "      <td>1.4</td>\n",
              "      <td>0.2</td>\n",
              "      <td>Iris-setosa</td>\n",
              "    </tr>\n",
              "    <tr>\n",
              "      <th>27</th>\n",
              "      <td>5.2</td>\n",
              "      <td>3.5</td>\n",
              "      <td>1.5</td>\n",
              "      <td>0.2</td>\n",
              "      <td>Iris-setosa</td>\n",
              "    </tr>\n",
              "    <tr>\n",
              "      <th>48</th>\n",
              "      <td>5.3</td>\n",
              "      <td>3.7</td>\n",
              "      <td>1.5</td>\n",
              "      <td>0.2</td>\n",
              "      <td>Iris-setosa</td>\n",
              "    </tr>\n",
              "    <tr>\n",
              "      <th>16</th>\n",
              "      <td>5.4</td>\n",
              "      <td>3.9</td>\n",
              "      <td>1.3</td>\n",
              "      <td>0.4</td>\n",
              "      <td>Iris-setosa</td>\n",
              "    </tr>\n",
              "    <tr>\n",
              "      <th>31</th>\n",
              "      <td>5.4</td>\n",
              "      <td>3.4</td>\n",
              "      <td>1.5</td>\n",
              "      <td>0.4</td>\n",
              "      <td>Iris-setosa</td>\n",
              "    </tr>\n",
              "    <tr>\n",
              "      <th>10</th>\n",
              "      <td>5.4</td>\n",
              "      <td>3.7</td>\n",
              "      <td>1.5</td>\n",
              "      <td>0.2</td>\n",
              "      <td>Iris-setosa</td>\n",
              "    </tr>\n",
              "    <tr>\n",
              "      <th>20</th>\n",
              "      <td>5.4</td>\n",
              "      <td>3.4</td>\n",
              "      <td>1.7</td>\n",
              "      <td>0.2</td>\n",
              "      <td>Iris-setosa</td>\n",
              "    </tr>\n",
              "    <tr>\n",
              "      <th>5</th>\n",
              "      <td>5.4</td>\n",
              "      <td>3.9</td>\n",
              "      <td>1.7</td>\n",
              "      <td>0.4</td>\n",
              "      <td>Iris-setosa</td>\n",
              "    </tr>\n",
              "    <tr>\n",
              "      <th>36</th>\n",
              "      <td>5.5</td>\n",
              "      <td>3.5</td>\n",
              "      <td>1.3</td>\n",
              "      <td>0.2</td>\n",
              "      <td>Iris-setosa</td>\n",
              "    </tr>\n",
              "    <tr>\n",
              "      <th>33</th>\n",
              "      <td>5.5</td>\n",
              "      <td>4.2</td>\n",
              "      <td>1.4</td>\n",
              "      <td>0.2</td>\n",
              "      <td>Iris-setosa</td>\n",
              "    </tr>\n",
              "    <tr>\n",
              "      <th>18</th>\n",
              "      <td>5.7</td>\n",
              "      <td>3.8</td>\n",
              "      <td>1.7</td>\n",
              "      <td>0.3</td>\n",
              "      <td>Iris-setosa</td>\n",
              "    </tr>\n",
              "    <tr>\n",
              "      <th>15</th>\n",
              "      <td>5.7</td>\n",
              "      <td>4.4</td>\n",
              "      <td>1.5</td>\n",
              "      <td>0.4</td>\n",
              "      <td>Iris-setosa</td>\n",
              "    </tr>\n",
              "    <tr>\n",
              "      <th>14</th>\n",
              "      <td>5.8</td>\n",
              "      <td>4.0</td>\n",
              "      <td>1.2</td>\n",
              "      <td>0.2</td>\n",
              "      <td>Iris-setosa</td>\n",
              "    </tr>\n",
              "  </tbody>\n",
              "</table>\n",
              "</div>"
            ],
            "text/plain": [
              "    slength  swidth  plength  pwidth      species\n",
              "13      4.3     3.0      1.1     0.1  Iris-setosa\n",
              "8       4.4     2.9      1.4     0.2  Iris-setosa\n",
              "38      4.4     3.0      1.3     0.2  Iris-setosa\n",
              "42      4.4     3.2      1.3     0.2  Iris-setosa\n",
              "41      4.5     2.3      1.3     0.3  Iris-setosa\n",
              "22      4.6     3.6      1.0     0.2  Iris-setosa\n",
              "3       4.6     3.1      1.5     0.2  Iris-setosa\n",
              "47      4.6     3.2      1.4     0.2  Iris-setosa\n",
              "6       4.6     3.4      1.4     0.3  Iris-setosa\n",
              "2       4.7     3.2      1.3     0.2  Iris-setosa\n",
              "29      4.7     3.2      1.6     0.2  Iris-setosa\n",
              "24      4.8     3.4      1.9     0.2  Iris-setosa\n",
              "30      4.8     3.1      1.6     0.2  Iris-setosa\n",
              "12      4.8     3.0      1.4     0.1  Iris-setosa\n",
              "11      4.8     3.4      1.6     0.2  Iris-setosa\n",
              "45      4.8     3.0      1.4     0.3  Iris-setosa\n",
              "9       4.9     3.1      1.5     0.1  Iris-setosa\n",
              "37      4.9     3.1      1.5     0.1  Iris-setosa\n",
              "34      4.9     3.1      1.5     0.1  Iris-setosa\n",
              "1       4.9     3.0      1.4     0.2  Iris-setosa\n",
              "40      5.0     3.5      1.3     0.3  Iris-setosa\n",
              "35      5.0     3.2      1.2     0.2  Iris-setosa\n",
              "43      5.0     3.5      1.6     0.6  Iris-setosa\n",
              "26      5.0     3.4      1.6     0.4  Iris-setosa\n",
              "25      5.0     3.0      1.6     0.2  Iris-setosa\n",
              "49      5.0     3.3      1.4     0.2  Iris-setosa\n",
              "4       5.0     3.6      1.4     0.2  Iris-setosa\n",
              "7       5.0     3.4      1.5     0.2  Iris-setosa\n",
              "23      5.1     3.3      1.7     0.5  Iris-setosa\n",
              "46      5.1     3.8      1.6     0.2  Iris-setosa\n",
              "44      5.1     3.8      1.9     0.4  Iris-setosa\n",
              "39      5.1     3.4      1.5     0.2  Iris-setosa\n",
              "19      5.1     3.8      1.5     0.3  Iris-setosa\n",
              "17      5.1     3.5      1.4     0.3  Iris-setosa\n",
              "21      5.1     3.7      1.5     0.4  Iris-setosa\n",
              "0       5.1     3.5      1.4     0.2  Iris-setosa\n",
              "32      5.2     4.1      1.5     0.1  Iris-setosa\n",
              "28      5.2     3.4      1.4     0.2  Iris-setosa\n",
              "27      5.2     3.5      1.5     0.2  Iris-setosa\n",
              "48      5.3     3.7      1.5     0.2  Iris-setosa\n",
              "16      5.4     3.9      1.3     0.4  Iris-setosa\n",
              "31      5.4     3.4      1.5     0.4  Iris-setosa\n",
              "10      5.4     3.7      1.5     0.2  Iris-setosa\n",
              "20      5.4     3.4      1.7     0.2  Iris-setosa\n",
              "5       5.4     3.9      1.7     0.4  Iris-setosa\n",
              "36      5.5     3.5      1.3     0.2  Iris-setosa\n",
              "33      5.5     4.2      1.4     0.2  Iris-setosa\n",
              "18      5.7     3.8      1.7     0.3  Iris-setosa\n",
              "15      5.7     4.4      1.5     0.4  Iris-setosa\n",
              "14      5.8     4.0      1.2     0.2  Iris-setosa"
            ]
          },
          "execution_count": 72,
          "metadata": {},
          "output_type": "execute_result"
        }
      ]
    },
    {
      "cell_type": "code",
      "metadata": {
        "id": "IbQ1Wuqc06qQ"
      },
      "source": [
        "%ls -l # list the file in your current directory with the linux command ls"
      ],
      "execution_count": null,
      "outputs": []
    },
    {
      "cell_type": "markdown",
      "metadata": {
        "id": "d6I2Xd1d06qQ"
      },
      "source": [
        "### 5. Filtering on a DataFrame\n",
        "..."
      ]
    },
    {
      "cell_type": "code",
      "metadata": {
        "id": "XYCwukeI06qR",
        "outputId": "e08451db-14aa-43da-da1a-1ba16d101967"
      },
      "source": [
        "adf['slength'].astype('float')>5.0 # Returns a vector with booleans "
      ],
      "execution_count": null,
      "outputs": [
        {
          "data": {
            "text/plain": [
              "0       True\n",
              "1      False\n",
              "2      False\n",
              "3      False\n",
              "4      False\n",
              "       ...  \n",
              "145     True\n",
              "146     True\n",
              "147     True\n",
              "148     True\n",
              "149     True\n",
              "Name: slength, Length: 150, dtype: bool"
            ]
          },
          "execution_count": 73,
          "metadata": {},
          "output_type": "execute_result"
        }
      ]
    },
    {
      "cell_type": "code",
      "metadata": {
        "id": "qjnWw_T406qR"
      },
      "source": [
        "# We can assign the filtering result to a new dataframe\n",
        "sdf_large = sdf[sdf['slength'].astype('float')>5.0]"
      ],
      "execution_count": null,
      "outputs": []
    },
    {
      "cell_type": "code",
      "metadata": {
        "id": "6Widtyr806qR",
        "outputId": "6924cebc-5abe-42eb-b99f-db4244a50095"
      },
      "source": [
        "# And print it\n",
        "sdf_large"
      ],
      "execution_count": null,
      "outputs": [
        {
          "data": {
            "text/html": [
              "<div>\n",
              "<style scoped>\n",
              "    .dataframe tbody tr th:only-of-type {\n",
              "        vertical-align: middle;\n",
              "    }\n",
              "\n",
              "    .dataframe tbody tr th {\n",
              "        vertical-align: top;\n",
              "    }\n",
              "\n",
              "    .dataframe thead th {\n",
              "        text-align: right;\n",
              "    }\n",
              "</style>\n",
              "<table border=\"1\" class=\"dataframe\">\n",
              "  <thead>\n",
              "    <tr style=\"text-align: right;\">\n",
              "      <th></th>\n",
              "      <th>slength</th>\n",
              "      <th>swidth</th>\n",
              "      <th>plength</th>\n",
              "      <th>pwidth</th>\n",
              "      <th>species</th>\n",
              "      <th>half slength</th>\n",
              "    </tr>\n",
              "  </thead>\n",
              "  <tbody>\n",
              "    <tr>\n",
              "      <th>0</th>\n",
              "      <td>5.1</td>\n",
              "      <td>3.5</td>\n",
              "      <td>1.4</td>\n",
              "      <td>0.2</td>\n",
              "      <td>Iris-setosa</td>\n",
              "      <td>2.55</td>\n",
              "    </tr>\n",
              "    <tr>\n",
              "      <th>5</th>\n",
              "      <td>5.4</td>\n",
              "      <td>3.9</td>\n",
              "      <td>1.7</td>\n",
              "      <td>0.4</td>\n",
              "      <td>Iris-setosa</td>\n",
              "      <td>2.70</td>\n",
              "    </tr>\n",
              "  </tbody>\n",
              "</table>\n",
              "</div>"
            ],
            "text/plain": [
              "  slength swidth plength pwidth      species  half slength\n",
              "0     5.1    3.5     1.4    0.2  Iris-setosa          2.55\n",
              "5     5.4    3.9     1.7    0.4  Iris-setosa          2.70"
            ]
          },
          "execution_count": 75,
          "metadata": {},
          "output_type": "execute_result"
        }
      ]
    },
    {
      "cell_type": "markdown",
      "metadata": {
        "id": "Rg_y8Ift06qR"
      },
      "source": [
        "### 6. Missing or bad data\n",
        "\n",
        "Datasets, in particular before they are \"cleaned\", may contain missing or wrongly formated values. There are DataFrame methods to deal with this:\n",
        "\n",
        "- DataFrame.dropna([axis, how, thresh, …])\tRemove missing values.\n",
        "- DataFrame.fillna([value, method, axis, …])\tFill NA/NaN values using the specified method\n",
        "- DataFrame.replace([to_replace, value, …])\tReplace values given in to_replace with value.\n",
        "- DataFrame.interpolate([method, axis, limit, …])\tInterpolate values according to different methods.\n",
        "\n",
        "Retrieving and cleaning data is often the most time consuming part in a data science project."
      ]
    },
    {
      "cell_type": "markdown",
      "metadata": {
        "id": "HN7OXDjJ06qR"
      },
      "source": [
        "### 7. Exporting dataframes\n",
        "\n",
        "DataFrame has several export methods. (html, hdf5, ascii, excel etc). Let's write our file to a text file in a csv format. "
      ]
    },
    {
      "cell_type": "code",
      "metadata": {
        "id": "yhxN8bF_06qR"
      },
      "source": [
        "sdf.to_csv('~/Desktop/myout.txt')"
      ],
      "execution_count": null,
      "outputs": []
    },
    {
      "cell_type": "code",
      "metadata": {
        "id": "b-27C7Vz06qR",
        "outputId": "846bd2c0-19b6-4709-d9a6-cf26e89ba7b4"
      },
      "source": [
        "10**6 * 64 / 8"
      ],
      "execution_count": null,
      "outputs": [
        {
          "data": {
            "text/plain": [
              "8000000.0"
            ]
          },
          "execution_count": 81,
          "metadata": {},
          "output_type": "execute_result"
        }
      ]
    },
    {
      "cell_type": "markdown",
      "metadata": {
        "id": "md7M4Grp06qS"
      },
      "source": [
        "Now we can look at the myout.txt file with some regulare txt viewer."
      ]
    },
    {
      "cell_type": "markdown",
      "metadata": {
        "id": "Q1No9Vhr06qS"
      },
      "source": [
        "### 8. Metadata\n",
        "\n",
        "\n",
        "Metadata is data about the data, e.g. when was it collected, under which conditions, calibration etc. \n",
        "Metadata is normally not part of the statistical data analysis, however, needed for understanding and reproducibilty. \n",
        "\n",
        "DataFrame is not really made for storing metadata (should be done separately), but one can add new attributes to a dataframe:\n"
      ]
    },
    {
      "cell_type": "code",
      "metadata": {
        "id": "HQ7Q2lT306qS",
        "outputId": "856e8889-025f-4679-c0dd-baf9975aecf9"
      },
      "source": [
        "sdf.myinstrument_name = 'Linky'\n",
        "sdf.myinstrument_name"
      ],
      "execution_count": null,
      "outputs": [
        {
          "name": "stdout",
          "output_type": "stream",
          "text": [
            "<class 'pandas.core.frame.DataFrame'>\n",
            "RangeIndex: 10 entries, 0 to 9\n",
            "Data columns (total 6 columns):\n",
            " #   Column        Non-Null Count  Dtype  \n",
            "---  ------        --------------  -----  \n",
            " 0   slength       10 non-null     object \n",
            " 1   swidth        10 non-null     object \n",
            " 2   plength       10 non-null     object \n",
            " 3   pwidth        10 non-null     object \n",
            " 4   species       10 non-null     object \n",
            " 5   half slength  10 non-null     float64\n",
            "dtypes: float64(1), object(5)\n",
            "memory usage: 608.0+ bytes\n"
          ]
        }
      ]
    },
    {
      "cell_type": "markdown",
      "metadata": {
        "id": "ZpLXCrvn06qS"
      },
      "source": [
        "### Exercise 2\n",
        "\n",
        "Write down here some minimal metadata about the Iris dataset:\n",
        "\n",
        "- Column names (features, inputs, observables)\n",
        "- units/dimensions\n",
        "- Author/source/time/version\n",
        "Summary: everything needed for reproduction\n",
        "\n",
        "(the \"dimensions of a numpy table or dataframe is often called the shape). 150x5x3"
      ]
    },
    {
      "cell_type": "markdown",
      "metadata": {
        "id": "gm5NcJsD06qS"
      },
      "source": [
        "### 9. Working on the filesystem with the os module\n",
        "\n",
        "When managing large datasets, one often has to organise files in the file system. This includes finding them, moving and copying them, creating new folders/directories, renaming them etc. This can easily be done from Python with the os (operating system) module. \n",
        "\n",
        "Try to understand the following code and alter it to do something else. "
      ]
    },
    {
      "cell_type": "code",
      "metadata": {
        "id": "8Td_AnJg06qS"
      },
      "source": [
        "import os\n",
        "\n",
        "new_dir = os.getcwd() +'/newnbdir' # Get the current directory into a string, add /newnbdir to the string\n",
        "os.makedirs(new_dir) # Create the folder\n",
        "files = os.listdir() # List the files in the current folder\n",
        "nb_files = [] # Create an empty list\n",
        "for file in files:\n",
        "    if 'ipynb' in file and file[0]!='.':\n",
        "        nb_files.append(file)\n",
        "for file in nb_files:\n",
        "    os.system('cp '+file+' '+new_dir+'/')"
      ],
      "execution_count": null,
      "outputs": []
    },
    {
      "cell_type": "markdown",
      "metadata": {
        "id": "aCEPcsaf06qS"
      },
      "source": [
        "### Exercise 3\n",
        "\n",
        "Read in the iris dataset from iris.csv into a dataframe. Set the values in column 1 in row 39, 49 and 100 to NaN (use the nan method from the numpy package). Then replacethe NaN values to the average value of the respective column. Depending on how you do it, this may be about 10 lines of Python code."
      ]
    },
    {
      "cell_type": "code",
      "metadata": {
        "id": "X9VczUOG06qS"
      },
      "source": [
        "# Solve your exercise here\n"
      ],
      "execution_count": null,
      "outputs": []
    },
    {
      "cell_type": "markdown",
      "metadata": {
        "id": "8MZXt0ei06qT"
      },
      "source": [
        "### Exercise 4 \n",
        "\n",
        "Print the list of Swiss cantons with the number of registered positive COVID19 tests since March. The list should be sorted so that the highest number occurs first. This should be doable with 3-10 lines of Python.\n"
      ]
    },
    {
      "cell_type": "code",
      "metadata": {
        "id": "7UPCsexM06qT"
      },
      "source": [
        ""
      ],
      "execution_count": null,
      "outputs": []
    },
    {
      "cell_type": "markdown",
      "metadata": {
        "id": "1yOZYAHG06qT"
      },
      "source": [
        "# End of today - remember to fill the mandatory form\n",
        "\n",
        "Everyone has to fill this form by 10 pm : https://forms.gle/bzDpGLUieVnheZUi6.\n",
        "Have a nice evening and see you tomorrow."
      ]
    },
    {
      "cell_type": "code",
      "metadata": {
        "id": "wvGsChGa06qT"
      },
      "source": [
        ""
      ],
      "execution_count": null,
      "outputs": []
    },
    {
      "cell_type": "code",
      "metadata": {
        "id": "vPndicDx06qT"
      },
      "source": [
        ""
      ],
      "execution_count": null,
      "outputs": []
    }
  ]
}