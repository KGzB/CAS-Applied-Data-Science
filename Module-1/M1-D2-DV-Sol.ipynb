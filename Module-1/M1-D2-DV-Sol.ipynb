{
  "nbformat": 4,
  "nbformat_minor": 0,
  "metadata": {
    "kernelspec": {
      "display_name": "Python 3",
      "language": "python",
      "name": "python3"
    },
    "language_info": {
      "codemirror_mode": {
        "name": "ipython",
        "version": 3
      },
      "file_extension": ".py",
      "mimetype": "text/x-python",
      "name": "python",
      "nbconvert_exporter": "python",
      "pygments_lexer": "ipython3",
      "version": "3.7.8"
    },
    "colab": {
      "name": "M1-D2-DV-Sol.ipynb",
      "provenance": [],
      "include_colab_link": true
    }
  },
  "cells": [
    {
      "cell_type": "markdown",
      "metadata": {
        "id": "view-in-github",
        "colab_type": "text"
      },
      "source": [
        "<a href=\"https://colab.research.google.com/github/sigvehaug/CAS-Applied-Data-Science/blob/master/Module-1/M1-D2-DV-Sol.ipynb\" target=\"_parent\"><img src=\"https://colab.research.google.com/assets/colab-badge.svg\" alt=\"Open In Colab\"/></a>"
      ]
    },
    {
      "cell_type": "markdown",
      "metadata": {
        "id": "e1dH35rqCxCS"
      },
      "source": [
        "Notebook 2, Module 1, Data Aquisition and Data Management, CAS Applied Data Science, 2023-08-24, S. Haug, University of Bern."
      ]
    },
    {
      "cell_type": "markdown",
      "metadata": {
        "id": "9EwDWl1SfwYb"
      },
      "source": [
        "**First some cells from the discussion session in the morning.**"
      ]
    },
    {
      "cell_type": "markdown",
      "metadata": {
        "id": "rEMiDoxxgJy9"
      },
      "source": [
        "1. Wenn leaving a colab session, files you have saved locally will disappear. So it is better to use your google drive for files you want to keep. For that you need to mount google drive to the machine were the colab session is running:"
      ]
    },
    {
      "cell_type": "code",
      "metadata": {
        "colab": {
          "base_uri": "https://localhost:8080/"
        },
        "id": "70ym6Q9vENrk",
        "outputId": "774dae38-1ac1-4055-c18d-b5d19ab8af43"
      },
      "source": [
        "# Using files from google drive\n",
        "from google.colab import drive\n",
        "drive.mount('/content/drive')"
      ],
      "execution_count": 4,
      "outputs": [
        {
          "output_type": "stream",
          "name": "stdout",
          "text": [
            "Mounted at /content/drive\n"
          ]
        }
      ]
    },
    {
      "cell_type": "code",
      "metadata": {
        "id": "VBzAyfYZE50k"
      },
      "source": [
        "#!ls -l drive/MyDrive # listing the files in my google drive"
      ],
      "execution_count": null,
      "outputs": []
    },
    {
      "cell_type": "code",
      "metadata": {
        "id": "9XweGvB6FCf4"
      },
      "source": [],
      "execution_count": null,
      "outputs": []
    },
    {
      "cell_type": "markdown",
      "metadata": {
        "id": "VvFs2BLQCxCW"
      },
      "source": [
        "# 1. Visualisation of Data - Examples\n",
        "\n",
        "**Learning outcomes:**\n",
        "\n",
        "Participants will be able to make good data science plots, with praxis on\n",
        "- plot line charts from series and dataframes\n",
        "- plot histograms\n",
        "  - understand the effect of binning\n",
        "- plot scatter plots\n",
        "- plot box plots\n",
        "- plot error bars\n",
        "- formatting of plots\n",
        "- geoplotting\n",
        "\n",
        "**Introduction Slides**\n",
        "- https://docs.google.com/presentation/d/1HhRIIVq46DyVNm68WeTqr_vZvOgSMWBZa2XDwWNH8H4/edit?usp=sharing\n",
        "\n",
        "**Further sources**\n",
        "- Python: https://pandas.pydata.org/pandas-docs/stable/visualization.html\n",
        "- https://jakevdp.github.io/PythonDataScienceHandbook/04.00-introduction-to-matplotlib.html\n",
        "- Get inspired here : https://matplotlib.org/gallery/index.html\n",
        "\n",
        "Here you have examples on plotting possibilities with pandas. They make data science plotting very easy and fast. However, you may have special needs that are not supported. Then you can use the underlaying plotting module **matplotlib**.\n",
        "\n",
        "Plotting is an art and you can spend enourmous amounts of time doing plotting. There are many types of plots. You may invent your own type. We only show some examples and point out some important things. If you need to go further, you have to work indepentently.\n",
        "\n",
        "Some vocabulary and plots are only understandable with corresponding statistics background. This is part of module 2."
      ]
    },
    {
      "cell_type": "markdown",
      "metadata": {
        "id": "QVMP4mDgCxCY"
      },
      "source": [
        "### 0. Load the modules"
      ]
    },
    {
      "cell_type": "code",
      "metadata": {
        "id": "K1YoSszUCxCZ"
      },
      "source": [
        "import numpy as np\n",
        "import matplotlib.pyplot as plt\n",
        "import pandas as pd"
      ],
      "execution_count": null,
      "outputs": []
    },
    {
      "cell_type": "markdown",
      "metadata": {
        "id": "t5QbM20fCxCa"
      },
      "source": [
        "### 1. Plot line charts (time series)\n",
        "\n",
        "First we use the data structure Series (one dimensional)."
      ]
    },
    {
      "cell_type": "code",
      "metadata": {
        "id": "p0MguthjCxCa"
      },
      "source": [
        "# Generate 1000 random numbers for 1000 days from the normal distribution\n",
        "ts = pd.Series(np.random.randn(1000), index=pd.date_range('1/1/2000', periods=1000))\n",
        "ts = ts.cumsum()\n",
        "ts.head(15)\n",
        "#ts.plot()\n",
        "#plt.show()"
      ],
      "execution_count": null,
      "outputs": []
    },
    {
      "cell_type": "markdown",
      "metadata": {
        "id": "XrgG0hPXCxCc"
      },
      "source": [
        "We can generate 4 time series, keep them in a dataframe and plot them all four."
      ]
    },
    {
      "cell_type": "code",
      "metadata": {
        "id": "siA0K0xeCxCe"
      },
      "source": [
        "df = pd.DataFrame(np.random.randn(1000, 4), index=ts.index, columns=['CAS','Bin','C','D'])\n",
        "df_cumsum = df.cumsum()\n",
        "plt.figure()\n",
        "df_cumsum.plot()\n",
        "plt.show()"
      ],
      "execution_count": null,
      "outputs": []
    },
    {
      "cell_type": "markdown",
      "metadata": {
        "id": "NaWovhAjCxCf"
      },
      "source": [
        "### 2. Plot histograms (frequency plots)\n",
        "\n",
        "For this we use our Iris dataset."
      ]
    },
    {
      "cell_type": "code",
      "metadata": {
        "id": "iNsc7RddCxCg"
      },
      "source": [
        "filepath = '/content/drive/MyDrive/CAS/CAS-ADS-2021/iris.csv' # adapt this to your path\n",
        "df = pd.read_csv(filepath,names=['slength','swidth','plength','pwidth','species']) # data type is a string (str), i.e. not converted into numbers\n",
        "df.head() # print first 5 lines of data"
      ],
      "execution_count": null,
      "outputs": []
    },
    {
      "cell_type": "markdown",
      "metadata": {
        "id": "brbTEb18CxCg"
      },
      "source": [
        "Plot two histograms with a legend in the same graph."
      ]
    },
    {
      "cell_type": "code",
      "metadata": {
        "id": "nH59hvMUCxCg"
      },
      "source": [
        "df['slength'].plot(kind=\"hist\",fill=True,histtype='step',label='slength')\n",
        "df['swidth'].plot(kind=\"hist\",fill=False,histtype='step',label='swidth')\n",
        "plt.legend()\n",
        "plt.show()"
      ],
      "execution_count": null,
      "outputs": []
    },
    {
      "cell_type": "markdown",
      "metadata": {
        "id": "S-re-fYsCxCh"
      },
      "source": [
        "### The effect of binning\n",
        "\n",
        "When data is binned (or sampled) the bin size effects the amount of counts in each bin. Counts fluctuate like a normal distribution for counts above about 20. So depending on your bin size, the same data may look differently.\n",
        "\n",
        "Hard binning (small bin size) may introduce pure statistical structures without any other meaning. This is then overfitting. Too big bin sizes may wipe out structures in the data (underfitting). If known, a bin size guided by the physical resolution of the sensor is close to optimal.\n",
        "\n",
        "Plot the same histograms with a different binning."
      ]
    },
    {
      "cell_type": "code",
      "metadata": {
        "id": "6AJWEKE9CxCi"
      },
      "source": [
        "df['slength'].plot(bins=20,range=(2,8), kind=\"hist\",fill=False,histtype='step')\n",
        "plt.show()"
      ],
      "execution_count": null,
      "outputs": []
    },
    {
      "cell_type": "code",
      "metadata": {
        "id": "wciVHgX8CxCi"
      },
      "source": [],
      "execution_count": null,
      "outputs": []
    },
    {
      "cell_type": "markdown",
      "metadata": {
        "id": "1xGwosqbCxCi"
      },
      "source": [
        "### Always label the axes (also with units)"
      ]
    },
    {
      "cell_type": "code",
      "metadata": {
        "id": "ijcxqFlNCxCi"
      },
      "source": [
        "ax = df['slength'].plot(kind=\"hist\",fill=False,histtype='step',label='slength')\n",
        "df['swidth'].plot(kind=\"hist\",fill=False,histtype='step',label='swidth')\n",
        "ax.set_xlabel('x / cm')\n",
        "ax.set_ylabel('Count / 0.3 cm')\n",
        "ax.set_title('Sepal Length and Width')\n",
        "plt.legend()\n",
        "plt.show()"
      ],
      "execution_count": null,
      "outputs": []
    },
    {
      "cell_type": "markdown",
      "metadata": {
        "id": "ZvUAggxVCxCi"
      },
      "source": []
    },
    {
      "cell_type": "code",
      "metadata": {
        "id": "s9PcMNG1CxCj"
      },
      "source": [
        "s_df = df[df['species']=='Iris-setosa']"
      ],
      "execution_count": null,
      "outputs": []
    },
    {
      "cell_type": "markdown",
      "metadata": {
        "id": "BWtEvxkUCxCj"
      },
      "source": [
        "### 3. Scatter plots\n",
        "\n",
        "Scatter plots show how the data is distributed in two dimensions. They are good for finding (anti) correlations between two variables. We plot several plots in one figure."
      ]
    },
    {
      "cell_type": "code",
      "metadata": {
        "id": "iyuRSeAHCxCj"
      },
      "source": [
        "s_df.plot(x='slength',y='swidth',kind=\"scatter\",c='c')\n",
        "plt.show()"
      ],
      "execution_count": null,
      "outputs": []
    },
    {
      "cell_type": "markdown",
      "metadata": {
        "id": "apGVvHAKCxCj"
      },
      "source": [
        "With the plotting module there are some nice tools. For example authomatic plotting of all scatter plots."
      ]
    },
    {
      "cell_type": "code",
      "metadata": {
        "id": "45GYM9cfCxCk"
      },
      "source": [
        "from pandas.plotting import scatter_matrix\n",
        "scatter_matrix(df[df['species']=='Iris-setosa'], alpha=0.2, figsize=(8, 8), diagonal='hist')\n",
        "plt.show()"
      ],
      "execution_count": null,
      "outputs": []
    },
    {
      "cell_type": "markdown",
      "metadata": {
        "id": "Tho9VMVtCxCk"
      },
      "source": [
        "Or plotting of Andrew curves. https://en.wikipedia.org/wiki/Andrews_plot"
      ]
    },
    {
      "cell_type": "code",
      "metadata": {
        "id": "pecEnLq7CxCk"
      },
      "source": [
        "from pandas.plotting import andrews_curves\n",
        "andrews_curves(df, 'species')\n",
        "plt.show()"
      ],
      "execution_count": null,
      "outputs": []
    },
    {
      "cell_type": "markdown",
      "metadata": {
        "id": "7RqrcA9GCxCk"
      },
      "source": [
        "There are several other tools too. See https://pandas.pydata.org/pandas-docs/stable/visualization.html"
      ]
    },
    {
      "cell_type": "markdown",
      "metadata": {
        "id": "PjMuygbwCxCl"
      },
      "source": [
        "### 4. Box plots"
      ]
    },
    {
      "cell_type": "markdown",
      "metadata": {
        "id": "ZXS2jhOmCxCl"
      },
      "source": [
        "Boxplot can be drawn calling Series.plot.box() and DataFrame.plot.box(), or DataFrame.boxplot() to visualize the distribution of values within each column."
      ]
    },
    {
      "cell_type": "code",
      "metadata": {
        "id": "TqjQAmydCxCl"
      },
      "source": [
        "color = dict(boxes='DarkGreen', whiskers='DarkOrange',\n",
        "             medians='DarkBlue', caps='Gray')\n",
        "df.plot.box(color=color)\n",
        "#df.plot.box(boxes='DarkGreen', whiskers='DarkOrange',medians='DarkBlue', caps='Gray')\n",
        "plt.show()"
      ],
      "execution_count": null,
      "outputs": []
    },
    {
      "cell_type": "markdown",
      "metadata": {
        "id": "3xfzTRlsCxCl"
      },
      "source": [
        "Box plots are non-parametric. The box shows the first second and third quartiles. The whiskers may be standard deviations or other percentiles."
      ]
    },
    {
      "cell_type": "markdown",
      "metadata": {
        "id": "aVrsPXE4CxCl"
      },
      "source": [
        "### 5. Plotting with error bars"
      ]
    },
    {
      "cell_type": "markdown",
      "metadata": {
        "id": "j1d_m7buCxCm"
      },
      "source": [
        "There is no science without error bars, or better, uncertainties. The meaning of uncertainties is discussed in module 2. Here we only show by example  how to plot uncertainties."
      ]
    },
    {
      "cell_type": "markdown",
      "metadata": {
        "id": "2S1vhQHcCxCm"
      },
      "source": [
        "Plotting with error bars is supported in DataFrame.plot() and Series.plot().\n",
        "\n",
        "Horizontal and vertical error bars can be supplied to the xerr and yerr keyword arguments to plot(). The error values can be specified using a variety of formats:\n",
        "\n",
        "- As a DataFrame or dict of errors with column names matching the columns attribute of the plotting DataFrame or matching the name attribute of the Series.\n",
        "- As a str indicating which of the columns of plotting DataFrame contain the error values.\n",
        "- As raw values (list, tuple, or np.ndarray). Must be the same length as the plotting DataFrame/Series.\n",
        "\n",
        "Asymmetrical error bars are also supported, however raw error values must be provided in this case. For a M length Series, a Mx2 array should be provided indicating lower and upper (or left and right) errors. For a MxN DataFrame, asymmetrical errors should be in a Mx2xN array.\n",
        "\n",
        "Here is an example using an error dataframe (symmetric uncertainties)."
      ]
    },
    {
      "cell_type": "code",
      "metadata": {
        "id": "4nGenVxcCxCm"
      },
      "source": [
        "my_df   = pd.DataFrame([6,15,4,20,16,13]) # Some random data\n",
        "my_df_e = (my_df)**0.5 # The error dataframe\n",
        "my_df.plot(yerr=my_df_e)\n",
        "plt.show()"
      ],
      "execution_count": null,
      "outputs": []
    },
    {
      "cell_type": "markdown",
      "metadata": {
        "id": "J1jm7R8FCxCm"
      },
      "source": [
        "### 6. Formatting plots"
      ]
    },
    {
      "cell_type": "markdown",
      "metadata": {
        "id": "fT0rAG1ICxCn"
      },
      "source": [
        "Plots can easily be formatted with keywords. One can adjust colors, types of shading, lines, axes, legends, titles, etc. Some formatting has been exemplified above. More examples are in the documentation. https://pandas.pydata.org/pandas-docs/stable/visualization.html\n",
        "\n",
        "With the matplotlib module you are even more flexible. See https://matplotlib.org/gallery/index.html for inspirations."
      ]
    },
    {
      "cell_type": "markdown",
      "metadata": {
        "id": "19rFbg4TCxCn"
      },
      "source": [
        "### 7. Summary\n",
        "\n",
        "- Do you remember three important plot types?\n",
        "- What can the binning of a histogram do to the interpretation of it?\n",
        "- What are the three parts of the general communication process?\n",
        "- Can you mention three important points to include in plots and their figure legends?\n"
      ]
    },
    {
      "cell_type": "markdown",
      "metadata": {
        "id": "uWUIH_zSCxCn"
      },
      "source": [
        "### 8 Plotting Geodata\n",
        "\n",
        "Often is very nice to visualise data on geographical maps. Fortunately people have written packages helpin us with that. This is an example how the geopandas package can be used.\n",
        "\n",
        "You need to install geopandas (if you use Anaconda, the Anaconda Navigator in the environment you are using. Geopandas is part repository/channel conda-forge). This you may do at home or now or just follow Sigve showing you this example on colab.\n"
      ]
    },
    {
      "cell_type": "markdown",
      "source": [
        "\n",
        "First we need the so called shape files. They are provided by [swisstopo](https://www.swisstopo.admin.ch/en/geodata/landscape/boundaries3d.html/). For convenience I have a version on the CAS github repositoy.\n",
        "\n",
        "On Linux (colab is running linux) we get and unpack the files like this:\n",
        "\n"
      ],
      "metadata": {
        "id": "pGUGT3OTQCZe"
      }
    },
    {
      "cell_type": "code",
      "metadata": {
        "colab": {
          "base_uri": "https://localhost:8080/"
        },
        "id": "C7_4VwEdIW-x",
        "outputId": "52bc3f7b-c8f2-4348-cc41-a96f03231217"
      },
      "source": [
        "#! wget http://biogeo.ucdavis.edu/data/diva/adm/CHE_adm.zip\n",
        "! wget https://github.com/sigvehaug/CAS-Applied-Data-Science/raw/master/Module-1/CHE_adm.zip\n",
        "! mkdir -p data\n",
        "! unzip CHE_adm.zip -d data"
      ],
      "execution_count": 33,
      "outputs": [
        {
          "output_type": "stream",
          "name": "stdout",
          "text": [
            "--2023-08-22 13:06:20--  https://github.com/sigvehaug/CAS-Applied-Data-Science/raw/master/Module-1/CHE_adm.zip\n",
            "Resolving github.com (github.com)... 140.82.121.4\n",
            "Connecting to github.com (github.com)|140.82.121.4|:443... connected.\n",
            "HTTP request sent, awaiting response... 302 Found\n",
            "Location: https://raw.githubusercontent.com/sigvehaug/CAS-Applied-Data-Science/master/Module-1/CHE_adm.zip [following]\n",
            "--2023-08-22 13:06:20--  https://raw.githubusercontent.com/sigvehaug/CAS-Applied-Data-Science/master/Module-1/CHE_adm.zip\n",
            "Resolving raw.githubusercontent.com (raw.githubusercontent.com)... 185.199.108.133, 185.199.109.133, 185.199.110.133, ...\n",
            "Connecting to raw.githubusercontent.com (raw.githubusercontent.com)|185.199.108.133|:443... connected.\n",
            "HTTP request sent, awaiting response... 200 OK\n",
            "Length: 3559904 (3.4M) [application/zip]\n",
            "Saving to: ‘CHE_adm.zip’\n",
            "\n",
            "\rCHE_adm.zip           0%[                    ]       0  --.-KB/s               \rCHE_adm.zip         100%[===================>]   3.39M  --.-KB/s    in 0.03s   \n",
            "\n",
            "2023-08-22 13:06:20 (120 MB/s) - ‘CHE_adm.zip’ saved [3559904/3559904]\n",
            "\n",
            "Archive:  CHE_adm.zip\n",
            " extracting: data/CHE_adm0.cpg       \n",
            "  inflating: data/CHE_adm0.csv       \n",
            "  inflating: data/CHE_adm0.dbf       \n",
            "  inflating: data/CHE_adm0.prj       \n",
            "  inflating: data/CHE_adm0.shp       \n",
            "  inflating: data/CHE_adm0.shx       \n",
            " extracting: data/CHE_adm1.cpg       \n",
            "  inflating: data/CHE_adm1.csv       \n",
            "  inflating: data/CHE_adm1.dbf       \n",
            "  inflating: data/CHE_adm1.prj       \n",
            "  inflating: data/CHE_adm1.shp       \n",
            "  inflating: data/CHE_adm1.shx       \n",
            " extracting: data/CHE_adm2.cpg       \n",
            "  inflating: data/CHE_adm2.csv       \n",
            "  inflating: data/CHE_adm2.dbf       \n",
            "  inflating: data/CHE_adm2.prj       \n",
            "  inflating: data/CHE_adm2.shp       \n",
            "  inflating: data/CHE_adm2.shx       \n",
            " extracting: data/CHE_adm3.cpg       \n",
            "  inflating: data/CHE_adm3.csv       \n",
            "  inflating: data/CHE_adm3.dbf       \n",
            "  inflating: data/CHE_adm3.prj       \n",
            "  inflating: data/CHE_adm3.shp       \n",
            "  inflating: data/CHE_adm3.shx       \n",
            "  inflating: data/license.txt        \n"
          ]
        }
      ]
    },
    {
      "cell_type": "code",
      "metadata": {
        "id": "9WjhNP99CxCn"
      },
      "source": [
        "import pandas as pd\n",
        "import numpy as np\n",
        "import geopandas as gpd\n",
        "import matplotlib.pyplot as plt\n",
        "import datetime\n",
        "import os\n"
      ],
      "execution_count": 3,
      "outputs": []
    },
    {
      "cell_type": "markdown",
      "source": [
        "Now we merge some numbers per canton (covid cases at some point in the past) with the shape files."
      ],
      "metadata": {
        "id": "B4ENE8h1Yjoq"
      }
    },
    {
      "cell_type": "code",
      "source": [],
      "metadata": {
        "id": "B7VdmyUlavXZ"
      },
      "execution_count": 19,
      "outputs": []
    },
    {
      "cell_type": "code",
      "metadata": {
        "colab": {
          "base_uri": "https://localhost:8080/",
          "height": 1000
        },
        "id": "Xk2iOG4JK_pz",
        "outputId": "f1bde9a7-eb4f-414d-aaf8-8755e6f85f65"
      },
      "source": [
        "shape_file = 'data/CHE_adm1.shp'\n",
        "data_file  = 'https://raw.githubusercontent.com/sigvehaug/CAS-Applied-Data-Science/master/Module-1/covid-per-canton.csv'\n",
        "map_df = gpd.read_file(shape_file)\n",
        "cantons_df = pd.read_csv(data_file)\n",
        "#cantons_df\n",
        "#map_df\n",
        "merged_df = map_df.merge(cantons_df, how=\"left\", left_on=\"NAME_1\", right_on=\"CANTON\")\n",
        "merged_df"
      ],
      "execution_count": 19,
      "outputs": [
        {
          "output_type": "execute_result",
          "data": {
            "text/plain": [
              "    ID_0  ISO       NAME_0  ID_1                  NAME_1  \\\n",
              "0    223  CHE  Switzerland     1                  Aargau   \n",
              "1    223  CHE  Switzerland     2  Appenzell Ausserrhoden   \n",
              "2    223  CHE  Switzerland     3   Appenzell Innerrhoden   \n",
              "3    223  CHE  Switzerland     4        Basel-Landschaft   \n",
              "4    223  CHE  Switzerland     5             Basel-Stadt   \n",
              "5    223  CHE  Switzerland     6                    Bern   \n",
              "6    223  CHE  Switzerland     7                Fribourg   \n",
              "7    223  CHE  Switzerland     8                  Genève   \n",
              "8    223  CHE  Switzerland     9                  Glarus   \n",
              "9    223  CHE  Switzerland    10              Graubünden   \n",
              "10   223  CHE  Switzerland    11                    Jura   \n",
              "11   223  CHE  Switzerland    12                 Lucerne   \n",
              "12   223  CHE  Switzerland    13               Neuchâtel   \n",
              "13   223  CHE  Switzerland    14               Nidwalden   \n",
              "14   223  CHE  Switzerland    15                Obwalden   \n",
              "15   223  CHE  Switzerland    16            Sankt Gallen   \n",
              "16   223  CHE  Switzerland    17            Schaffhausen   \n",
              "17   223  CHE  Switzerland    18                  Schwyz   \n",
              "18   223  CHE  Switzerland    19               Solothurn   \n",
              "19   223  CHE  Switzerland    20                 Thurgau   \n",
              "20   223  CHE  Switzerland    21                  Ticino   \n",
              "21   223  CHE  Switzerland    22                     Uri   \n",
              "22   223  CHE  Switzerland    23                  Valais   \n",
              "23   223  CHE  Switzerland    24                    Vaud   \n",
              "24   223  CHE  Switzerland    25                  Zürich   \n",
              "25   223  CHE  Switzerland    26                     Zug   \n",
              "\n",
              "                   TYPE_1 ENGTYPE_1  NL_NAME_1  \\\n",
              "0   Canton|Kanton|Chantun    Canton        NaN   \n",
              "1   Canton|Kanton|Chantun    Canton        NaN   \n",
              "2   Canton|Kanton|Chantun    Canton        NaN   \n",
              "3   Canton|Kanton|Chantun    Canton        NaN   \n",
              "4   Canton|Kanton|Chantun    Canton        NaN   \n",
              "5   Canton|Kanton|Chantun    Canton        NaN   \n",
              "6   Canton|Kanton|Chantun    Canton        NaN   \n",
              "7   Canton|Kanton|Chantun    Canton        NaN   \n",
              "8   Canton|Kanton|Chantun    Canton        NaN   \n",
              "9   Canton|Kanton|Chantun    Canton        NaN   \n",
              "10  Canton|Kanton|Chantun    Canton        NaN   \n",
              "11  Canton|Kanton|Chantun    Canton        NaN   \n",
              "12  Canton|Kanton|Chantun    Canton        NaN   \n",
              "13  Canton|Kanton|Chantun    Canton        NaN   \n",
              "14  Canton|Kanton|Chantun    Canton        NaN   \n",
              "15  Canton|Kanton|Chantun    Canton        NaN   \n",
              "16  Canton|Kanton|Chantun    Canton        NaN   \n",
              "17  Canton|Kanton|Chantun    Canton        NaN   \n",
              "18  Canton|Kanton|Chantun    Canton        NaN   \n",
              "19  Canton|Kanton|Chantun    Canton        NaN   \n",
              "20  Canton|Kanton|Chantun    Canton        NaN   \n",
              "21  Canton|Kanton|Chantun    Canton        NaN   \n",
              "22  Canton|Kanton|Chantun    Canton        NaN   \n",
              "23  Canton|Kanton|Chantun    Canton        NaN   \n",
              "24  Canton|Kanton|Chantun    Canton        NaN   \n",
              "25  Canton|Kanton|Chantun    Canton        NaN   \n",
              "\n",
              "                                            VARNAME_1  \\\n",
              "0                             Argovia|Arg¢via|Argovie   \n",
              "1   Appenzell Ausser-Rhoden|Appenzell Outer Rhodes...   \n",
              "2   Appenzell Inner-Rhoden|Appenzell Inner Rhodes|...   \n",
              "3   Bâle-Campagne|Basel-Country|Baselland|Basel-La...   \n",
              "4   Bâle-Ville|Basel-City|Basel-Town|Basilea-Citad...   \n",
              "5                                         Berna|Berne   \n",
              "6                           Freiburg|Friburg|Friburgo   \n",
              "7   Cenevre|Genebra|Geneve|Geneva|Genevra|Genf|Gin...   \n",
              "8                              Glaris|Glarona|Glaruna   \n",
              "9                Graubünden|Grigioni|Grischun|Grisons   \n",
              "10                                              Giura   \n",
              "11                                     Lucerna|Luzern   \n",
              "12                                          Neuenburg   \n",
              "13       Nidvaldo|Nidwald|Unterwalden-le-Bas|Nidwaldo   \n",
              "14  Obvaldo|Obwald|Unterwalden-le-Haut|Obwaldo|Sur...   \n",
              "15                      Saint-Gall|San Gallo|Son Gagl   \n",
              "16                    Schaffhouse|Schaffusa|Sciaffusa   \n",
              "17                                                NaN   \n",
              "18                   Soletta|Soleure|Soleuro|Soloturn   \n",
              "19                        Thurgovie|Turgovia|Turg¢via   \n",
              "20                                      Tesino|Tessin   \n",
              "21                                                NaN   \n",
              "22                             Vallais|Vallese|Wallis   \n",
              "23                                Vad|Waadt|Waadtland   \n",
              "24                        Turitg|Zurigo|Zürih|Zurique   \n",
              "25                                          Zoug|Zugo   \n",
              "\n",
              "                                             geometry                  CANTON  \\\n",
              "0   POLYGON ((8.22503 47.61147, 8.22661 47.61130, ...                  Aargau   \n",
              "1   POLYGON ((9.54239 47.47059, 9.54387 47.47031, ...  Appenzell Ausserrhoden   \n",
              "2   MULTIPOLYGON (((9.37930 47.38512, 9.37944 47.3...   Appenzell Innerrhoden   \n",
              "3   MULTIPOLYGON (((7.38339 47.41924, 7.38057 47.4...        Basel-Landschaft   \n",
              "4   POLYGON ((7.67336 47.58182, 7.67500 47.57977, ...             Basel-Stadt   \n",
              "5   MULTIPOLYGON (((7.09284 46.89419, 7.09202 46.8...                    Bern   \n",
              "6   MULTIPOLYGON (((6.78581 46.74974, 6.78684 46.7...                Fribourg   \n",
              "7   MULTIPOLYGON (((6.18406 46.34775, 6.18559 46.3...                  Genève   \n",
              "8   POLYGON ((9.07083 47.13050, 9.07307 47.12995, ...                  Glarus   \n",
              "9   MULTIPOLYGON (((10.22766 46.61207, 10.22734 46...              Graubünden   \n",
              "10  POLYGON ((7.04634 47.49664, 7.07880 47.48906, ...                    Jura   \n",
              "11  MULTIPOLYGON (((8.49948 47.10582, 8.49853 47.1...                 Lucerne   \n",
              "12  POLYGON ((6.87375 47.08966, 6.87334 47.08724, ...               Neuchâtel   \n",
              "13  MULTIPOLYGON (((8.32034 46.99665, 8.32100 46.9...               Nidwalden   \n",
              "14  MULTIPOLYGON (((8.37716 46.86282, 8.37581 46.8...                Obwalden   \n",
              "15  POLYGON ((9.32918 47.53055, 9.33015 47.53042, ...            Sankt Gallen   \n",
              "16  MULTIPOLYGON (((8.81134 47.73235, 8.80896 47.7...            Schaffhausen   \n",
              "17  POLYGON ((8.80793 47.20660, 8.81026 47.20572, ...                  Schwyz   \n",
              "18  MULTIPOLYGON (((7.69360 47.15701, 7.69325 47.1...               Solothurn   \n",
              "19  MULTIPOLYGON (((9.66879 47.49126, 9.66966 47.4...                 Thurgau   \n",
              "20  POLYGON ((8.96301 46.62543, 8.96313 46.62442, ...                  Ticino   \n",
              "21  POLYGON ((8.62574 46.95304, 8.62806 46.95229, ...                     Uri   \n",
              "22  POLYGON ((8.40732 46.65606, 8.40982 46.65564, ...                  Valais   \n",
              "23  MULTIPOLYGON (((6.73683 46.89278, 6.73576 46.8...                    Vaud   \n",
              "24  POLYGON ((8.64989 47.69701, 8.65064 47.69639, ...                  Zürich   \n",
              "25  POLYGON ((8.42611 47.22816, 8.42726 47.22812, ...                     Zug   \n",
              "\n",
              "   ACR  INHABITANTS  VIRUSCASESCONFIRMED  \n",
              "0   AG       677387                   26  \n",
              "1   AR        55234                    3  \n",
              "2   AI        16145                    0  \n",
              "3   BL       288132                   41  \n",
              "4   BS       194766                  100  \n",
              "5   BE      1034977                   69  \n",
              "6   FR       318714                   31  \n",
              "7   GE       499480                  103  \n",
              "8   GL        40403                    3  \n",
              "9   GR       198379                   43  \n",
              "10  JU        73419                    7  \n",
              "11  LU       409557                    9  \n",
              "12  NE       176850                   38  \n",
              "13  NW        43223                    0  \n",
              "14  OW        37841                    1  \n",
              "15  SG       507697                   16  \n",
              "16  SH        81991                    1  \n",
              "17  SZ       159165                   12  \n",
              "18  SO       273194                    6  \n",
              "19  TG       276472                    4  \n",
              "20  TI       353343                  250  \n",
              "21  UR        36433                    0  \n",
              "22  VS       343955                   43  \n",
              "23  VD       799145                  254  \n",
              "24  ZH      1520968                  119  \n",
              "25  ZG       126837                    8  "
            ],
            "text/html": [
              "\n",
              "  <div id=\"df-b361e71d-35f7-4bc2-bab7-54af0b335190\" class=\"colab-df-container\">\n",
              "    <div>\n",
              "<style scoped>\n",
              "    .dataframe tbody tr th:only-of-type {\n",
              "        vertical-align: middle;\n",
              "    }\n",
              "\n",
              "    .dataframe tbody tr th {\n",
              "        vertical-align: top;\n",
              "    }\n",
              "\n",
              "    .dataframe thead th {\n",
              "        text-align: right;\n",
              "    }\n",
              "</style>\n",
              "<table border=\"1\" class=\"dataframe\">\n",
              "  <thead>\n",
              "    <tr style=\"text-align: right;\">\n",
              "      <th></th>\n",
              "      <th>ID_0</th>\n",
              "      <th>ISO</th>\n",
              "      <th>NAME_0</th>\n",
              "      <th>ID_1</th>\n",
              "      <th>NAME_1</th>\n",
              "      <th>TYPE_1</th>\n",
              "      <th>ENGTYPE_1</th>\n",
              "      <th>NL_NAME_1</th>\n",
              "      <th>VARNAME_1</th>\n",
              "      <th>geometry</th>\n",
              "      <th>CANTON</th>\n",
              "      <th>ACR</th>\n",
              "      <th>INHABITANTS</th>\n",
              "      <th>VIRUSCASESCONFIRMED</th>\n",
              "    </tr>\n",
              "  </thead>\n",
              "  <tbody>\n",
              "    <tr>\n",
              "      <th>0</th>\n",
              "      <td>223</td>\n",
              "      <td>CHE</td>\n",
              "      <td>Switzerland</td>\n",
              "      <td>1</td>\n",
              "      <td>Aargau</td>\n",
              "      <td>Canton|Kanton|Chantun</td>\n",
              "      <td>Canton</td>\n",
              "      <td>NaN</td>\n",
              "      <td>Argovia|Arg¢via|Argovie</td>\n",
              "      <td>POLYGON ((8.22503 47.61147, 8.22661 47.61130, ...</td>\n",
              "      <td>Aargau</td>\n",
              "      <td>AG</td>\n",
              "      <td>677387</td>\n",
              "      <td>26</td>\n",
              "    </tr>\n",
              "    <tr>\n",
              "      <th>1</th>\n",
              "      <td>223</td>\n",
              "      <td>CHE</td>\n",
              "      <td>Switzerland</td>\n",
              "      <td>2</td>\n",
              "      <td>Appenzell Ausserrhoden</td>\n",
              "      <td>Canton|Kanton|Chantun</td>\n",
              "      <td>Canton</td>\n",
              "      <td>NaN</td>\n",
              "      <td>Appenzell Ausser-Rhoden|Appenzell Outer Rhodes...</td>\n",
              "      <td>POLYGON ((9.54239 47.47059, 9.54387 47.47031, ...</td>\n",
              "      <td>Appenzell Ausserrhoden</td>\n",
              "      <td>AR</td>\n",
              "      <td>55234</td>\n",
              "      <td>3</td>\n",
              "    </tr>\n",
              "    <tr>\n",
              "      <th>2</th>\n",
              "      <td>223</td>\n",
              "      <td>CHE</td>\n",
              "      <td>Switzerland</td>\n",
              "      <td>3</td>\n",
              "      <td>Appenzell Innerrhoden</td>\n",
              "      <td>Canton|Kanton|Chantun</td>\n",
              "      <td>Canton</td>\n",
              "      <td>NaN</td>\n",
              "      <td>Appenzell Inner-Rhoden|Appenzell Inner Rhodes|...</td>\n",
              "      <td>MULTIPOLYGON (((9.37930 47.38512, 9.37944 47.3...</td>\n",
              "      <td>Appenzell Innerrhoden</td>\n",
              "      <td>AI</td>\n",
              "      <td>16145</td>\n",
              "      <td>0</td>\n",
              "    </tr>\n",
              "    <tr>\n",
              "      <th>3</th>\n",
              "      <td>223</td>\n",
              "      <td>CHE</td>\n",
              "      <td>Switzerland</td>\n",
              "      <td>4</td>\n",
              "      <td>Basel-Landschaft</td>\n",
              "      <td>Canton|Kanton|Chantun</td>\n",
              "      <td>Canton</td>\n",
              "      <td>NaN</td>\n",
              "      <td>Bâle-Campagne|Basel-Country|Baselland|Basel-La...</td>\n",
              "      <td>MULTIPOLYGON (((7.38339 47.41924, 7.38057 47.4...</td>\n",
              "      <td>Basel-Landschaft</td>\n",
              "      <td>BL</td>\n",
              "      <td>288132</td>\n",
              "      <td>41</td>\n",
              "    </tr>\n",
              "    <tr>\n",
              "      <th>4</th>\n",
              "      <td>223</td>\n",
              "      <td>CHE</td>\n",
              "      <td>Switzerland</td>\n",
              "      <td>5</td>\n",
              "      <td>Basel-Stadt</td>\n",
              "      <td>Canton|Kanton|Chantun</td>\n",
              "      <td>Canton</td>\n",
              "      <td>NaN</td>\n",
              "      <td>Bâle-Ville|Basel-City|Basel-Town|Basilea-Citad...</td>\n",
              "      <td>POLYGON ((7.67336 47.58182, 7.67500 47.57977, ...</td>\n",
              "      <td>Basel-Stadt</td>\n",
              "      <td>BS</td>\n",
              "      <td>194766</td>\n",
              "      <td>100</td>\n",
              "    </tr>\n",
              "    <tr>\n",
              "      <th>5</th>\n",
              "      <td>223</td>\n",
              "      <td>CHE</td>\n",
              "      <td>Switzerland</td>\n",
              "      <td>6</td>\n",
              "      <td>Bern</td>\n",
              "      <td>Canton|Kanton|Chantun</td>\n",
              "      <td>Canton</td>\n",
              "      <td>NaN</td>\n",
              "      <td>Berna|Berne</td>\n",
              "      <td>MULTIPOLYGON (((7.09284 46.89419, 7.09202 46.8...</td>\n",
              "      <td>Bern</td>\n",
              "      <td>BE</td>\n",
              "      <td>1034977</td>\n",
              "      <td>69</td>\n",
              "    </tr>\n",
              "    <tr>\n",
              "      <th>6</th>\n",
              "      <td>223</td>\n",
              "      <td>CHE</td>\n",
              "      <td>Switzerland</td>\n",
              "      <td>7</td>\n",
              "      <td>Fribourg</td>\n",
              "      <td>Canton|Kanton|Chantun</td>\n",
              "      <td>Canton</td>\n",
              "      <td>NaN</td>\n",
              "      <td>Freiburg|Friburg|Friburgo</td>\n",
              "      <td>MULTIPOLYGON (((6.78581 46.74974, 6.78684 46.7...</td>\n",
              "      <td>Fribourg</td>\n",
              "      <td>FR</td>\n",
              "      <td>318714</td>\n",
              "      <td>31</td>\n",
              "    </tr>\n",
              "    <tr>\n",
              "      <th>7</th>\n",
              "      <td>223</td>\n",
              "      <td>CHE</td>\n",
              "      <td>Switzerland</td>\n",
              "      <td>8</td>\n",
              "      <td>Genève</td>\n",
              "      <td>Canton|Kanton|Chantun</td>\n",
              "      <td>Canton</td>\n",
              "      <td>NaN</td>\n",
              "      <td>Cenevre|Genebra|Geneve|Geneva|Genevra|Genf|Gin...</td>\n",
              "      <td>MULTIPOLYGON (((6.18406 46.34775, 6.18559 46.3...</td>\n",
              "      <td>Genève</td>\n",
              "      <td>GE</td>\n",
              "      <td>499480</td>\n",
              "      <td>103</td>\n",
              "    </tr>\n",
              "    <tr>\n",
              "      <th>8</th>\n",
              "      <td>223</td>\n",
              "      <td>CHE</td>\n",
              "      <td>Switzerland</td>\n",
              "      <td>9</td>\n",
              "      <td>Glarus</td>\n",
              "      <td>Canton|Kanton|Chantun</td>\n",
              "      <td>Canton</td>\n",
              "      <td>NaN</td>\n",
              "      <td>Glaris|Glarona|Glaruna</td>\n",
              "      <td>POLYGON ((9.07083 47.13050, 9.07307 47.12995, ...</td>\n",
              "      <td>Glarus</td>\n",
              "      <td>GL</td>\n",
              "      <td>40403</td>\n",
              "      <td>3</td>\n",
              "    </tr>\n",
              "    <tr>\n",
              "      <th>9</th>\n",
              "      <td>223</td>\n",
              "      <td>CHE</td>\n",
              "      <td>Switzerland</td>\n",
              "      <td>10</td>\n",
              "      <td>Graubünden</td>\n",
              "      <td>Canton|Kanton|Chantun</td>\n",
              "      <td>Canton</td>\n",
              "      <td>NaN</td>\n",
              "      <td>Graubünden|Grigioni|Grischun|Grisons</td>\n",
              "      <td>MULTIPOLYGON (((10.22766 46.61207, 10.22734 46...</td>\n",
              "      <td>Graubünden</td>\n",
              "      <td>GR</td>\n",
              "      <td>198379</td>\n",
              "      <td>43</td>\n",
              "    </tr>\n",
              "    <tr>\n",
              "      <th>10</th>\n",
              "      <td>223</td>\n",
              "      <td>CHE</td>\n",
              "      <td>Switzerland</td>\n",
              "      <td>11</td>\n",
              "      <td>Jura</td>\n",
              "      <td>Canton|Kanton|Chantun</td>\n",
              "      <td>Canton</td>\n",
              "      <td>NaN</td>\n",
              "      <td>Giura</td>\n",
              "      <td>POLYGON ((7.04634 47.49664, 7.07880 47.48906, ...</td>\n",
              "      <td>Jura</td>\n",
              "      <td>JU</td>\n",
              "      <td>73419</td>\n",
              "      <td>7</td>\n",
              "    </tr>\n",
              "    <tr>\n",
              "      <th>11</th>\n",
              "      <td>223</td>\n",
              "      <td>CHE</td>\n",
              "      <td>Switzerland</td>\n",
              "      <td>12</td>\n",
              "      <td>Lucerne</td>\n",
              "      <td>Canton|Kanton|Chantun</td>\n",
              "      <td>Canton</td>\n",
              "      <td>NaN</td>\n",
              "      <td>Lucerna|Luzern</td>\n",
              "      <td>MULTIPOLYGON (((8.49948 47.10582, 8.49853 47.1...</td>\n",
              "      <td>Lucerne</td>\n",
              "      <td>LU</td>\n",
              "      <td>409557</td>\n",
              "      <td>9</td>\n",
              "    </tr>\n",
              "    <tr>\n",
              "      <th>12</th>\n",
              "      <td>223</td>\n",
              "      <td>CHE</td>\n",
              "      <td>Switzerland</td>\n",
              "      <td>13</td>\n",
              "      <td>Neuchâtel</td>\n",
              "      <td>Canton|Kanton|Chantun</td>\n",
              "      <td>Canton</td>\n",
              "      <td>NaN</td>\n",
              "      <td>Neuenburg</td>\n",
              "      <td>POLYGON ((6.87375 47.08966, 6.87334 47.08724, ...</td>\n",
              "      <td>Neuchâtel</td>\n",
              "      <td>NE</td>\n",
              "      <td>176850</td>\n",
              "      <td>38</td>\n",
              "    </tr>\n",
              "    <tr>\n",
              "      <th>13</th>\n",
              "      <td>223</td>\n",
              "      <td>CHE</td>\n",
              "      <td>Switzerland</td>\n",
              "      <td>14</td>\n",
              "      <td>Nidwalden</td>\n",
              "      <td>Canton|Kanton|Chantun</td>\n",
              "      <td>Canton</td>\n",
              "      <td>NaN</td>\n",
              "      <td>Nidvaldo|Nidwald|Unterwalden-le-Bas|Nidwaldo</td>\n",
              "      <td>MULTIPOLYGON (((8.32034 46.99665, 8.32100 46.9...</td>\n",
              "      <td>Nidwalden</td>\n",
              "      <td>NW</td>\n",
              "      <td>43223</td>\n",
              "      <td>0</td>\n",
              "    </tr>\n",
              "    <tr>\n",
              "      <th>14</th>\n",
              "      <td>223</td>\n",
              "      <td>CHE</td>\n",
              "      <td>Switzerland</td>\n",
              "      <td>15</td>\n",
              "      <td>Obwalden</td>\n",
              "      <td>Canton|Kanton|Chantun</td>\n",
              "      <td>Canton</td>\n",
              "      <td>NaN</td>\n",
              "      <td>Obvaldo|Obwald|Unterwalden-le-Haut|Obwaldo|Sur...</td>\n",
              "      <td>MULTIPOLYGON (((8.37716 46.86282, 8.37581 46.8...</td>\n",
              "      <td>Obwalden</td>\n",
              "      <td>OW</td>\n",
              "      <td>37841</td>\n",
              "      <td>1</td>\n",
              "    </tr>\n",
              "    <tr>\n",
              "      <th>15</th>\n",
              "      <td>223</td>\n",
              "      <td>CHE</td>\n",
              "      <td>Switzerland</td>\n",
              "      <td>16</td>\n",
              "      <td>Sankt Gallen</td>\n",
              "      <td>Canton|Kanton|Chantun</td>\n",
              "      <td>Canton</td>\n",
              "      <td>NaN</td>\n",
              "      <td>Saint-Gall|San Gallo|Son Gagl</td>\n",
              "      <td>POLYGON ((9.32918 47.53055, 9.33015 47.53042, ...</td>\n",
              "      <td>Sankt Gallen</td>\n",
              "      <td>SG</td>\n",
              "      <td>507697</td>\n",
              "      <td>16</td>\n",
              "    </tr>\n",
              "    <tr>\n",
              "      <th>16</th>\n",
              "      <td>223</td>\n",
              "      <td>CHE</td>\n",
              "      <td>Switzerland</td>\n",
              "      <td>17</td>\n",
              "      <td>Schaffhausen</td>\n",
              "      <td>Canton|Kanton|Chantun</td>\n",
              "      <td>Canton</td>\n",
              "      <td>NaN</td>\n",
              "      <td>Schaffhouse|Schaffusa|Sciaffusa</td>\n",
              "      <td>MULTIPOLYGON (((8.81134 47.73235, 8.80896 47.7...</td>\n",
              "      <td>Schaffhausen</td>\n",
              "      <td>SH</td>\n",
              "      <td>81991</td>\n",
              "      <td>1</td>\n",
              "    </tr>\n",
              "    <tr>\n",
              "      <th>17</th>\n",
              "      <td>223</td>\n",
              "      <td>CHE</td>\n",
              "      <td>Switzerland</td>\n",
              "      <td>18</td>\n",
              "      <td>Schwyz</td>\n",
              "      <td>Canton|Kanton|Chantun</td>\n",
              "      <td>Canton</td>\n",
              "      <td>NaN</td>\n",
              "      <td>NaN</td>\n",
              "      <td>POLYGON ((8.80793 47.20660, 8.81026 47.20572, ...</td>\n",
              "      <td>Schwyz</td>\n",
              "      <td>SZ</td>\n",
              "      <td>159165</td>\n",
              "      <td>12</td>\n",
              "    </tr>\n",
              "    <tr>\n",
              "      <th>18</th>\n",
              "      <td>223</td>\n",
              "      <td>CHE</td>\n",
              "      <td>Switzerland</td>\n",
              "      <td>19</td>\n",
              "      <td>Solothurn</td>\n",
              "      <td>Canton|Kanton|Chantun</td>\n",
              "      <td>Canton</td>\n",
              "      <td>NaN</td>\n",
              "      <td>Soletta|Soleure|Soleuro|Soloturn</td>\n",
              "      <td>MULTIPOLYGON (((7.69360 47.15701, 7.69325 47.1...</td>\n",
              "      <td>Solothurn</td>\n",
              "      <td>SO</td>\n",
              "      <td>273194</td>\n",
              "      <td>6</td>\n",
              "    </tr>\n",
              "    <tr>\n",
              "      <th>19</th>\n",
              "      <td>223</td>\n",
              "      <td>CHE</td>\n",
              "      <td>Switzerland</td>\n",
              "      <td>20</td>\n",
              "      <td>Thurgau</td>\n",
              "      <td>Canton|Kanton|Chantun</td>\n",
              "      <td>Canton</td>\n",
              "      <td>NaN</td>\n",
              "      <td>Thurgovie|Turgovia|Turg¢via</td>\n",
              "      <td>MULTIPOLYGON (((9.66879 47.49126, 9.66966 47.4...</td>\n",
              "      <td>Thurgau</td>\n",
              "      <td>TG</td>\n",
              "      <td>276472</td>\n",
              "      <td>4</td>\n",
              "    </tr>\n",
              "    <tr>\n",
              "      <th>20</th>\n",
              "      <td>223</td>\n",
              "      <td>CHE</td>\n",
              "      <td>Switzerland</td>\n",
              "      <td>21</td>\n",
              "      <td>Ticino</td>\n",
              "      <td>Canton|Kanton|Chantun</td>\n",
              "      <td>Canton</td>\n",
              "      <td>NaN</td>\n",
              "      <td>Tesino|Tessin</td>\n",
              "      <td>POLYGON ((8.96301 46.62543, 8.96313 46.62442, ...</td>\n",
              "      <td>Ticino</td>\n",
              "      <td>TI</td>\n",
              "      <td>353343</td>\n",
              "      <td>250</td>\n",
              "    </tr>\n",
              "    <tr>\n",
              "      <th>21</th>\n",
              "      <td>223</td>\n",
              "      <td>CHE</td>\n",
              "      <td>Switzerland</td>\n",
              "      <td>22</td>\n",
              "      <td>Uri</td>\n",
              "      <td>Canton|Kanton|Chantun</td>\n",
              "      <td>Canton</td>\n",
              "      <td>NaN</td>\n",
              "      <td>NaN</td>\n",
              "      <td>POLYGON ((8.62574 46.95304, 8.62806 46.95229, ...</td>\n",
              "      <td>Uri</td>\n",
              "      <td>UR</td>\n",
              "      <td>36433</td>\n",
              "      <td>0</td>\n",
              "    </tr>\n",
              "    <tr>\n",
              "      <th>22</th>\n",
              "      <td>223</td>\n",
              "      <td>CHE</td>\n",
              "      <td>Switzerland</td>\n",
              "      <td>23</td>\n",
              "      <td>Valais</td>\n",
              "      <td>Canton|Kanton|Chantun</td>\n",
              "      <td>Canton</td>\n",
              "      <td>NaN</td>\n",
              "      <td>Vallais|Vallese|Wallis</td>\n",
              "      <td>POLYGON ((8.40732 46.65606, 8.40982 46.65564, ...</td>\n",
              "      <td>Valais</td>\n",
              "      <td>VS</td>\n",
              "      <td>343955</td>\n",
              "      <td>43</td>\n",
              "    </tr>\n",
              "    <tr>\n",
              "      <th>23</th>\n",
              "      <td>223</td>\n",
              "      <td>CHE</td>\n",
              "      <td>Switzerland</td>\n",
              "      <td>24</td>\n",
              "      <td>Vaud</td>\n",
              "      <td>Canton|Kanton|Chantun</td>\n",
              "      <td>Canton</td>\n",
              "      <td>NaN</td>\n",
              "      <td>Vad|Waadt|Waadtland</td>\n",
              "      <td>MULTIPOLYGON (((6.73683 46.89278, 6.73576 46.8...</td>\n",
              "      <td>Vaud</td>\n",
              "      <td>VD</td>\n",
              "      <td>799145</td>\n",
              "      <td>254</td>\n",
              "    </tr>\n",
              "    <tr>\n",
              "      <th>24</th>\n",
              "      <td>223</td>\n",
              "      <td>CHE</td>\n",
              "      <td>Switzerland</td>\n",
              "      <td>25</td>\n",
              "      <td>Zürich</td>\n",
              "      <td>Canton|Kanton|Chantun</td>\n",
              "      <td>Canton</td>\n",
              "      <td>NaN</td>\n",
              "      <td>Turitg|Zurigo|Zürih|Zurique</td>\n",
              "      <td>POLYGON ((8.64989 47.69701, 8.65064 47.69639, ...</td>\n",
              "      <td>Zürich</td>\n",
              "      <td>ZH</td>\n",
              "      <td>1520968</td>\n",
              "      <td>119</td>\n",
              "    </tr>\n",
              "    <tr>\n",
              "      <th>25</th>\n",
              "      <td>223</td>\n",
              "      <td>CHE</td>\n",
              "      <td>Switzerland</td>\n",
              "      <td>26</td>\n",
              "      <td>Zug</td>\n",
              "      <td>Canton|Kanton|Chantun</td>\n",
              "      <td>Canton</td>\n",
              "      <td>NaN</td>\n",
              "      <td>Zoug|Zugo</td>\n",
              "      <td>POLYGON ((8.42611 47.22816, 8.42726 47.22812, ...</td>\n",
              "      <td>Zug</td>\n",
              "      <td>ZG</td>\n",
              "      <td>126837</td>\n",
              "      <td>8</td>\n",
              "    </tr>\n",
              "  </tbody>\n",
              "</table>\n",
              "</div>\n",
              "    <div class=\"colab-df-buttons\">\n",
              "\n",
              "  <div class=\"colab-df-container\">\n",
              "    <button class=\"colab-df-convert\" onclick=\"convertToInteractive('df-b361e71d-35f7-4bc2-bab7-54af0b335190')\"\n",
              "            title=\"Convert this dataframe to an interactive table.\"\n",
              "            style=\"display:none;\">\n",
              "\n",
              "  <svg xmlns=\"http://www.w3.org/2000/svg\" height=\"24px\" viewBox=\"0 -960 960 960\">\n",
              "    <path d=\"M120-120v-720h720v720H120Zm60-500h600v-160H180v160Zm220 220h160v-160H400v160Zm0 220h160v-160H400v160ZM180-400h160v-160H180v160Zm440 0h160v-160H620v160ZM180-180h160v-160H180v160Zm440 0h160v-160H620v160Z\"/>\n",
              "  </svg>\n",
              "    </button>\n",
              "\n",
              "  <style>\n",
              "    .colab-df-container {\n",
              "      display:flex;\n",
              "      gap: 12px;\n",
              "    }\n",
              "\n",
              "    .colab-df-convert {\n",
              "      background-color: #E8F0FE;\n",
              "      border: none;\n",
              "      border-radius: 50%;\n",
              "      cursor: pointer;\n",
              "      display: none;\n",
              "      fill: #1967D2;\n",
              "      height: 32px;\n",
              "      padding: 0 0 0 0;\n",
              "      width: 32px;\n",
              "    }\n",
              "\n",
              "    .colab-df-convert:hover {\n",
              "      background-color: #E2EBFA;\n",
              "      box-shadow: 0px 1px 2px rgba(60, 64, 67, 0.3), 0px 1px 3px 1px rgba(60, 64, 67, 0.15);\n",
              "      fill: #174EA6;\n",
              "    }\n",
              "\n",
              "    .colab-df-buttons div {\n",
              "      margin-bottom: 4px;\n",
              "    }\n",
              "\n",
              "    [theme=dark] .colab-df-convert {\n",
              "      background-color: #3B4455;\n",
              "      fill: #D2E3FC;\n",
              "    }\n",
              "\n",
              "    [theme=dark] .colab-df-convert:hover {\n",
              "      background-color: #434B5C;\n",
              "      box-shadow: 0px 1px 3px 1px rgba(0, 0, 0, 0.15);\n",
              "      filter: drop-shadow(0px 1px 2px rgba(0, 0, 0, 0.3));\n",
              "      fill: #FFFFFF;\n",
              "    }\n",
              "  </style>\n",
              "\n",
              "    <script>\n",
              "      const buttonEl =\n",
              "        document.querySelector('#df-b361e71d-35f7-4bc2-bab7-54af0b335190 button.colab-df-convert');\n",
              "      buttonEl.style.display =\n",
              "        google.colab.kernel.accessAllowed ? 'block' : 'none';\n",
              "\n",
              "      async function convertToInteractive(key) {\n",
              "        const element = document.querySelector('#df-b361e71d-35f7-4bc2-bab7-54af0b335190');\n",
              "        const dataTable =\n",
              "          await google.colab.kernel.invokeFunction('convertToInteractive',\n",
              "                                                    [key], {});\n",
              "        if (!dataTable) return;\n",
              "\n",
              "        const docLinkHtml = 'Like what you see? Visit the ' +\n",
              "          '<a target=\"_blank\" href=https://colab.research.google.com/notebooks/data_table.ipynb>data table notebook</a>'\n",
              "          + ' to learn more about interactive tables.';\n",
              "        element.innerHTML = '';\n",
              "        dataTable['output_type'] = 'display_data';\n",
              "        await google.colab.output.renderOutput(dataTable, element);\n",
              "        const docLink = document.createElement('div');\n",
              "        docLink.innerHTML = docLinkHtml;\n",
              "        element.appendChild(docLink);\n",
              "      }\n",
              "    </script>\n",
              "  </div>\n",
              "\n",
              "\n",
              "<div id=\"df-b9b8f9b1-cf7c-479c-91bc-1086c6ccdaa5\">\n",
              "  <button class=\"colab-df-quickchart\" onclick=\"quickchart('df-b9b8f9b1-cf7c-479c-91bc-1086c6ccdaa5')\"\n",
              "            title=\"Suggest charts.\"\n",
              "            style=\"display:none;\">\n",
              "\n",
              "<svg xmlns=\"http://www.w3.org/2000/svg\" height=\"24px\"viewBox=\"0 0 24 24\"\n",
              "     width=\"24px\">\n",
              "    <g>\n",
              "        <path d=\"M19 3H5c-1.1 0-2 .9-2 2v14c0 1.1.9 2 2 2h14c1.1 0 2-.9 2-2V5c0-1.1-.9-2-2-2zM9 17H7v-7h2v7zm4 0h-2V7h2v10zm4 0h-2v-4h2v4z\"/>\n",
              "    </g>\n",
              "</svg>\n",
              "  </button>\n",
              "\n",
              "<style>\n",
              "  .colab-df-quickchart {\n",
              "    background-color: #E8F0FE;\n",
              "    border: none;\n",
              "    border-radius: 50%;\n",
              "    cursor: pointer;\n",
              "    display: none;\n",
              "    fill: #1967D2;\n",
              "    height: 32px;\n",
              "    padding: 0 0 0 0;\n",
              "    width: 32px;\n",
              "  }\n",
              "\n",
              "  .colab-df-quickchart:hover {\n",
              "    background-color: #E2EBFA;\n",
              "    box-shadow: 0px 1px 2px rgba(60, 64, 67, 0.3), 0px 1px 3px 1px rgba(60, 64, 67, 0.15);\n",
              "    fill: #174EA6;\n",
              "  }\n",
              "\n",
              "  [theme=dark] .colab-df-quickchart {\n",
              "    background-color: #3B4455;\n",
              "    fill: #D2E3FC;\n",
              "  }\n",
              "\n",
              "  [theme=dark] .colab-df-quickchart:hover {\n",
              "    background-color: #434B5C;\n",
              "    box-shadow: 0px 1px 3px 1px rgba(0, 0, 0, 0.15);\n",
              "    filter: drop-shadow(0px 1px 2px rgba(0, 0, 0, 0.3));\n",
              "    fill: #FFFFFF;\n",
              "  }\n",
              "</style>\n",
              "\n",
              "  <script>\n",
              "    async function quickchart(key) {\n",
              "      const charts = await google.colab.kernel.invokeFunction(\n",
              "          'suggestCharts', [key], {});\n",
              "    }\n",
              "    (() => {\n",
              "      let quickchartButtonEl =\n",
              "        document.querySelector('#df-b9b8f9b1-cf7c-479c-91bc-1086c6ccdaa5 button');\n",
              "      quickchartButtonEl.style.display =\n",
              "        google.colab.kernel.accessAllowed ? 'block' : 'none';\n",
              "    })();\n",
              "  </script>\n",
              "</div>\n",
              "    </div>\n",
              "  </div>\n"
            ]
          },
          "metadata": {},
          "execution_count": 19
        }
      ]
    },
    {
      "cell_type": "code",
      "metadata": {
        "id": "_85kYj7uCxCo",
        "colab": {
          "base_uri": "https://localhost:8080/",
          "height": 1000
        },
        "outputId": "7068ad6e-e28c-44e0-a528-915fcb927b32"
      },
      "source": [
        "def plotmap(df, datacol, vmax, filename, title):\n",
        "    sm = plt.cm.ScalarMappable(cmap='Blues', norm=plt.Normalize(vmin=0, vmax=vmax))\n",
        "    fig, ax = plt.subplots(1, figsize=(30, 10))\n",
        "    ax.axis(\"off\")\n",
        "    ax.set_title(title, fontdict={'fontsize': '25', 'fontweight' : '3'})\n",
        "    ax.annotate(\"Sources: BAG, WP, ZHAW SPLab\", xy=(0.68, 0.11),\n",
        "    xycoords='figure fraction', fontsize=12, color='#555555')\n",
        "    sm.set_array([])\n",
        "    fig.colorbar(sm, ax=ax, extend=\"max\")\n",
        "    df['coords'] = df['geometry'].apply(lambda x: x.representative_point().coords[:])\n",
        "    df['coords'] = [coords[0] for coords in df['coords']]\n",
        "    for idx, row in df.iterrows():\n",
        "        #plt.annotate(s=row['NAME_0'], xy=row['coords'],horizontalalignment='center')\n",
        "        df.plot(column=datacol, cmap='Blues', linewidth=0.8, ax=ax, edgecolor='0.8', vmax=vmax)\n",
        "    fig.savefig(filename, dpi=150)\n",
        "\n",
        "print(merged_df[[\"ACR\", \"VIRUSCASESCONFIRMED\"]])\n",
        "plotmap(merged_df, \"VIRUSCASESCONFIRMED\", 500, \"map_absolute.png\", \"# of confirmed coronavirus cases per canton\")\n",
        "\n",
        "# If you want file names with day information, use code below\n",
        "#os.makedirs(\"dailymaps\", exist_ok=True)\n",
        "#stamp = datetime.datetime.now().strftime(\"%Y%m%d\")\n",
        "#hdate = datetime.datetime.now().strftime(\"%d.%m.%Y\")\n",
        "#plotmap(merged_df, \"VIRUSCASESCONFIRMED\", 500, f\"dailymaps/map_abs_{stamp}.png\", f\"# of confirmed coronavirus cases per canton [{hdate}]\")\n"
      ],
      "execution_count": 20,
      "outputs": [
        {
          "output_type": "stream",
          "name": "stdout",
          "text": [
            "   ACR  VIRUSCASESCONFIRMED\n",
            "0   AG                   26\n",
            "1   AR                    3\n",
            "2   AI                    0\n",
            "3   BL                   41\n",
            "4   BS                  100\n",
            "5   BE                   69\n",
            "6   FR                   31\n",
            "7   GE                  103\n",
            "8   GL                    3\n",
            "9   GR                   43\n",
            "10  JU                    7\n",
            "11  LU                    9\n",
            "12  NE                   38\n",
            "13  NW                    0\n",
            "14  OW                    1\n",
            "15  SG                   16\n",
            "16  SH                    1\n",
            "17  SZ                   12\n",
            "18  SO                    6\n",
            "19  TG                    4\n",
            "20  TI                  250\n",
            "21  UR                    0\n",
            "22  VS                   43\n",
            "23  VD                  254\n",
            "24  ZH                  119\n",
            "25  ZG                    8\n"
          ]
        },
        {
          "output_type": "display_data",
          "data": {
            "text/plain": [
              "<Figure size 3000x1000 with 2 Axes>"
            ],
            "image/png": "[encoded data removed]"
          },
          "metadata": {}
        }
      ]
    },
    {
      "cell_type": "markdown",
      "metadata": {
        "id": "21Q6_1eUCxCo"
      },
      "source": [
        "# End of the prepared data visualisation examples.\n",
        "\n",
        "Feel free to play on your own. You should make some good plots of your dataset for the project report."
      ]
    }
  ]
}