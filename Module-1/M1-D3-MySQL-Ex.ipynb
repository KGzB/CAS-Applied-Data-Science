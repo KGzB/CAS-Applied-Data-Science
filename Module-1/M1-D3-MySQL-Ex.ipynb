{
 "cells": [
  {
   "cell_type": "markdown",
   "metadata": {},
   "source": [
    "### MySQL Exercise\n",
    "\n",
    "You have 45 minutes for this exercise. You will be randomly be assigned to class colleague and the two of get a separate virual room where you cam solve the exercise togehter. When you have finished, please return to the main virtual room.\n",
    "\n",
    "**Task**\n",
    "- Check if there is visible correlation between payment amount and postal code of the customer, i.e. make a scatter plot.  \n",
    "- Calculate the total price for all orders in the database per product line.\n",
    "How much you do in SQL directly and how much with dataframes is up to you. \n",
    "\n",
    "**Have fun and start here:**\n",
    "\n",
    "- Study MySQL-PDF.pdf in a different browser tab for an overview of the database to be used. The pdf is in the 05-Databases folder on Ilias \n",
    "- Connect to the database classicmodels which is running on computer host."
   ]
  },
  {
   "cell_type": "code",
   "execution_count": 1,
   "metadata": {},
   "outputs": [],
   "source": [
    "# mysql is in package \"conda install mysql-connector-python\"\n",
    "import mysql.connector\n",
    "import pandas as pd \n",
    "my_connect = mysql.connector.connect(\n",
    "      host=\"fl-5-232.zhdk.cloud.switch.ch\",\n",
    "      port=3306,\n",
    "      user=\"user\",\n",
    "      passwd=\"fum+Apheb4\",\n",
    "      #database='training'\n",
    "      database=\"classicmodels\"\n",
    "    )\n",
    "####### end of connection ####\n"
   ]
  },
  {
   "cell_type": "markdown",
   "metadata": {},
   "source": [
    "Now check that you can read the tables:"
   ]
  },
  {
   "cell_type": "code",
   "execution_count": 2,
   "metadata": {},
   "outputs": [
    {
     "data": {
      "text/html": [
       "<div>\n",
       "<style scoped>\n",
       "    .dataframe tbody tr th:only-of-type {\n",
       "        vertical-align: middle;\n",
       "    }\n",
       "\n",
       "    .dataframe tbody tr th {\n",
       "        vertical-align: top;\n",
       "    }\n",
       "\n",
       "    .dataframe thead th {\n",
       "        text-align: right;\n",
       "    }\n",
       "</style>\n",
       "<table border=\"1\" class=\"dataframe\">\n",
       "  <thead>\n",
       "    <tr style=\"text-align: right;\">\n",
       "      <th></th>\n",
       "      <th>productLine</th>\n",
       "    </tr>\n",
       "  </thead>\n",
       "  <tbody>\n",
       "    <tr>\n",
       "      <th>0</th>\n",
       "      <td>Classic Cars</td>\n",
       "    </tr>\n",
       "    <tr>\n",
       "      <th>1</th>\n",
       "      <td>Motorcycles</td>\n",
       "    </tr>\n",
       "    <tr>\n",
       "      <th>2</th>\n",
       "      <td>Planes</td>\n",
       "    </tr>\n",
       "    <tr>\n",
       "      <th>3</th>\n",
       "      <td>Ships</td>\n",
       "    </tr>\n",
       "    <tr>\n",
       "      <th>4</th>\n",
       "      <td>Trains</td>\n",
       "    </tr>\n",
       "    <tr>\n",
       "      <th>5</th>\n",
       "      <td>Trucks and Buses</td>\n",
       "    </tr>\n",
       "    <tr>\n",
       "      <th>6</th>\n",
       "      <td>Vintage Cars</td>\n",
       "    </tr>\n",
       "  </tbody>\n",
       "</table>\n",
       "</div>"
      ],
      "text/plain": [
       "        productLine\n",
       "0      Classic Cars\n",
       "1       Motorcycles\n",
       "2            Planes\n",
       "3             Ships\n",
       "4            Trains\n",
       "5  Trucks and Buses\n",
       "6      Vintage Cars"
      ]
     },
     "execution_count": 2,
     "metadata": {},
     "output_type": "execute_result"
    }
   ],
   "source": [
    "df_prodline = pd.read_sql(\"SELECT productLine FROM productlines\",my_connect)\n",
    "df_prodline"
   ]
  },
  {
   "cell_type": "markdown",
   "metadata": {},
   "source": [
    "Now continue with your task!"
   ]
  },
  {
   "cell_type": "code",
   "execution_count": null,
   "metadata": {},
   "outputs": [],
   "source": [
    "# Scatter plot showing payment amount versus postal code\n",
    "# Your code comes here\n"
   ]
  },
  {
   "cell_type": "code",
   "execution_count": null,
   "metadata": {},
   "outputs": [],
   "source": [
    "# One possibility getting total price for all orders per product line\n",
    "# Your code comes here\n"
   ]
  },
  {
   "cell_type": "markdown",
   "metadata": {},
   "source": [
    "What is potentially very bad about this solution?"
   ]
  },
  {
   "cell_type": "markdown",
   "metadata": {},
   "source": [
    "### NB\n",
    "\n",
    "The server with the database used in this notebook will be shut down tonight. However, installing a mysql data server on your own laptop is quite easy. Google is your friend. It takes maybe 1h for a beginner, 10min for an experienced."
   ]
  }
 ],
 "metadata": {
  "kernelspec": {
   "display_name": "Python 3",
   "language": "python",
   "name": "python3"
  },
  "language_info": {
   "codemirror_mode": {
    "name": "ipython",
    "version": 3
   },
   "file_extension": ".py",
   "mimetype": "text/x-python",
   "name": "python",
   "nbconvert_exporter": "python",
   "pygments_lexer": "ipython3",
   "version": "3.7.8"
  }
 },
 "nbformat": 4,
 "nbformat_minor": 4
}
